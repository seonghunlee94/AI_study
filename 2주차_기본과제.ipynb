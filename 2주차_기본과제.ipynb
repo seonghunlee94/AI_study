{
  "cells": [
    {
      "cell_type": "markdown",
      "metadata": {
        "id": "view-in-github",
        "colab_type": "text"
      },
      "source": [
        "<a href=\"https://colab.research.google.com/github/seonghunlee94/AI_study/blob/master/2%EC%A3%BC%EC%B0%A8_%EA%B8%B0%EB%B3%B8%EA%B3%BC%EC%A0%9C.ipynb\" target=\"_parent\"><img src=\"https://colab.research.google.com/assets/colab-badge.svg\" alt=\"Open In Colab\"/></a>"
      ]
    },
    {
      "cell_type": "markdown",
      "metadata": {
        "id": "ymxatB5WYxlL"
      },
      "source": [
        "# [2주차] 기본과제: 주어진 문장에서 나올 다음 단어를 예측하는 모델 구현"
      ]
    },
    {
      "cell_type": "code",
      "execution_count": null,
      "metadata": {
        "colab": {
          "base_uri": "https://localhost:8080/"
        },
        "id": "1X7RM2du1zcr",
        "outputId": "bbc76c8d-35bd-4bcf-f9bf-36a5349317b5"
      },
      "outputs": [
        {
          "name": "stdout",
          "output_type": "stream",
          "text": [
            "Requirement already satisfied: datasets in /usr/local/lib/python3.10/dist-packages (3.2.0)\n",
            "Requirement already satisfied: sacremoses in /usr/local/lib/python3.10/dist-packages (0.1.1)\n",
            "Requirement already satisfied: filelock in /usr/local/lib/python3.10/dist-packages (from datasets) (3.16.1)\n",
            "Requirement already satisfied: numpy>=1.17 in /usr/local/lib/python3.10/dist-packages (from datasets) (1.26.4)\n",
            "Requirement already satisfied: pyarrow>=15.0.0 in /usr/local/lib/python3.10/dist-packages (from datasets) (17.0.0)\n",
            "Requirement already satisfied: dill<0.3.9,>=0.3.0 in /usr/local/lib/python3.10/dist-packages (from datasets) (0.3.8)\n",
            "Requirement already satisfied: pandas in /usr/local/lib/python3.10/dist-packages (from datasets) (2.2.2)\n",
            "Requirement already satisfied: requests>=2.32.2 in /usr/local/lib/python3.10/dist-packages (from datasets) (2.32.3)\n",
            "Requirement already satisfied: tqdm>=4.66.3 in /usr/local/lib/python3.10/dist-packages (from datasets) (4.67.1)\n",
            "Requirement already satisfied: xxhash in /usr/local/lib/python3.10/dist-packages (from datasets) (3.5.0)\n",
            "Requirement already satisfied: multiprocess<0.70.17 in /usr/local/lib/python3.10/dist-packages (from datasets) (0.70.16)\n",
            "Requirement already satisfied: fsspec<=2024.9.0,>=2023.1.0 in /usr/local/lib/python3.10/dist-packages (from fsspec[http]<=2024.9.0,>=2023.1.0->datasets) (2024.9.0)\n",
            "Requirement already satisfied: aiohttp in /usr/local/lib/python3.10/dist-packages (from datasets) (3.11.10)\n",
            "Requirement already satisfied: huggingface-hub>=0.23.0 in /usr/local/lib/python3.10/dist-packages (from datasets) (0.27.0)\n",
            "Requirement already satisfied: packaging in /usr/local/lib/python3.10/dist-packages (from datasets) (24.2)\n",
            "Requirement already satisfied: pyyaml>=5.1 in /usr/local/lib/python3.10/dist-packages (from datasets) (6.0.2)\n",
            "Requirement already satisfied: regex in /usr/local/lib/python3.10/dist-packages (from sacremoses) (2024.11.6)\n",
            "Requirement already satisfied: click in /usr/local/lib/python3.10/dist-packages (from sacremoses) (8.1.7)\n",
            "Requirement already satisfied: joblib in /usr/local/lib/python3.10/dist-packages (from sacremoses) (1.4.2)\n",
            "Requirement already satisfied: aiohappyeyeballs>=2.3.0 in /usr/local/lib/python3.10/dist-packages (from aiohttp->datasets) (2.4.4)\n",
            "Requirement already satisfied: aiosignal>=1.1.2 in /usr/local/lib/python3.10/dist-packages (from aiohttp->datasets) (1.3.2)\n",
            "Requirement already satisfied: async-timeout<6.0,>=4.0 in /usr/local/lib/python3.10/dist-packages (from aiohttp->datasets) (4.0.3)\n",
            "Requirement already satisfied: attrs>=17.3.0 in /usr/local/lib/python3.10/dist-packages (from aiohttp->datasets) (24.3.0)\n",
            "Requirement already satisfied: frozenlist>=1.1.1 in /usr/local/lib/python3.10/dist-packages (from aiohttp->datasets) (1.5.0)\n",
            "Requirement already satisfied: multidict<7.0,>=4.5 in /usr/local/lib/python3.10/dist-packages (from aiohttp->datasets) (6.1.0)\n",
            "Requirement already satisfied: propcache>=0.2.0 in /usr/local/lib/python3.10/dist-packages (from aiohttp->datasets) (0.2.1)\n",
            "Requirement already satisfied: yarl<2.0,>=1.17.0 in /usr/local/lib/python3.10/dist-packages (from aiohttp->datasets) (1.18.3)\n",
            "Requirement already satisfied: typing-extensions>=3.7.4.3 in /usr/local/lib/python3.10/dist-packages (from huggingface-hub>=0.23.0->datasets) (4.12.2)\n",
            "Requirement already satisfied: charset-normalizer<4,>=2 in /usr/local/lib/python3.10/dist-packages (from requests>=2.32.2->datasets) (3.4.0)\n",
            "Requirement already satisfied: idna<4,>=2.5 in /usr/local/lib/python3.10/dist-packages (from requests>=2.32.2->datasets) (3.10)\n",
            "Requirement already satisfied: urllib3<3,>=1.21.1 in /usr/local/lib/python3.10/dist-packages (from requests>=2.32.2->datasets) (2.2.3)\n",
            "Requirement already satisfied: certifi>=2017.4.17 in /usr/local/lib/python3.10/dist-packages (from requests>=2.32.2->datasets) (2024.12.14)\n",
            "Requirement already satisfied: python-dateutil>=2.8.2 in /usr/local/lib/python3.10/dist-packages (from pandas->datasets) (2.8.2)\n",
            "Requirement already satisfied: pytz>=2020.1 in /usr/local/lib/python3.10/dist-packages (from pandas->datasets) (2024.2)\n",
            "Requirement already satisfied: tzdata>=2022.7 in /usr/local/lib/python3.10/dist-packages (from pandas->datasets) (2024.2)\n",
            "Requirement already satisfied: six>=1.5 in /usr/local/lib/python3.10/dist-packages (from python-dateutil>=2.8.2->pandas->datasets) (1.17.0)\n"
          ]
        }
      ],
      "source": [
        "!pip install datasets sacremoses"
      ]
    },
    {
      "cell_type": "markdown",
      "metadata": {
        "id": "Yf7dFwDRme0p"
      },
      "source": [
        "## 1. Last word prediction dataset 준비\n",
        "### 기존의 IMDB dataset을 그대로 활용하고, collate_fn을 다음과 같이 수정하면 됩니다:"
      ]
    },
    {
      "cell_type": "code",
      "execution_count": null,
      "metadata": {
        "colab": {
          "base_uri": "https://localhost:8080/"
        },
        "id": "HOdhoBVA1zcu",
        "outputId": "bd3c8a48-9de7-481a-c03c-668e2ec3af4c"
      },
      "outputs": [
        {
          "name": "stderr",
          "output_type": "stream",
          "text": [
            "Using cache found in /root/.cache/torch/hub/huggingface_pytorch-transformers_main\n"
          ]
        }
      ],
      "source": [
        "import torch\n",
        "from datasets import load_dataset\n",
        "from torch.utils.data import DataLoader\n",
        "from transformers import BertTokenizerFast\n",
        "from tokenizers import (\n",
        "    decoders,\n",
        "    models,\n",
        "    normalizers,\n",
        "    pre_tokenizers,\n",
        "    processors,\n",
        "    trainers,\n",
        "    Tokenizer,\n",
        ")\n",
        "\n",
        "\n",
        "ds = load_dataset(\"stanfordnlp/imdb\")\n",
        "tokenizer = torch.hub.load('huggingface/pytorch-transformers', 'tokenizer', 'bert-base-uncased')\n",
        "\n",
        "## [MYCODE] 뒤에서 두 번째 토큰에 lable 넣기\n",
        "from torch.nn.utils.rnn import pad_sequence\n",
        "\n",
        "def collate_fn(batch):\n",
        "  max_len = 400\n",
        "  texts, labels = [], []\n",
        "  for row in batch:\n",
        "    labels.append(tokenizer(row['text'], truncation=True, max_length=max_len).input_ids[-2])\n",
        "    texts.append(torch.LongTensor(tokenizer(row['text'], truncation=True, max_length=max_len).input_ids[:-2]))\n",
        "\n",
        "  texts = pad_sequence(texts, batch_first=True, padding_value=tokenizer.pad_token_id)\n",
        "  labels = torch.LongTensor(labels)\n",
        "\n",
        "  return texts, labels\n",
        "\n",
        "\n",
        "train_loader = DataLoader(\n",
        "    ds['train'], batch_size=64, shuffle=True, collate_fn=collate_fn\n",
        ")\n",
        "test_loader = DataLoader(\n",
        "    ds['test'], batch_size=64, shuffle=False, collate_fn=collate_fn\n",
        ")"
      ]
    },
    {
      "cell_type": "code",
      "execution_count": null,
      "metadata": {
        "id": "MBlMVMZcRAxv"
      },
      "outputs": [],
      "source": [
        "from torch import nn\n",
        "from math import sqrt\n",
        "\n",
        "\n",
        "class SelfAttention(nn.Module):\n",
        "  def __init__(self, input_dim, d_model):\n",
        "    super().__init__()\n",
        "\n",
        "    self.input_dim = input_dim\n",
        "    self.d_model = d_model\n",
        "\n",
        "    self.wq = nn.Linear(input_dim, d_model)\n",
        "    self.wk = nn.Linear(input_dim, d_model)\n",
        "    self.wv = nn.Linear(input_dim, d_model)\n",
        "    self.dense = nn.Linear(d_model, d_model)\n",
        "\n",
        "    self.softmax = nn.Softmax(dim=-1)\n",
        "\n",
        "  def forward(self, x, mask):\n",
        "    q, k, v = self.wq(x), self.wk(x), self.wv(x)\n",
        "    score = torch.matmul(q, k.transpose(-1, -2)) # (B, S, D) * (B, D, S) = (B, S, S)\n",
        "    score = score / sqrt(self.d_model)\n",
        "\n",
        "    if mask is not None:\n",
        "      score = score + (mask * -1e9)\n",
        "\n",
        "    score = self.softmax(score)\n",
        "    result = torch.matmul(score, v)\n",
        "    result = self.dense(result)\n",
        "\n",
        "    return result"
      ]
    },
    {
      "cell_type": "code",
      "execution_count": null,
      "metadata": {
        "id": "VZHPCn9AS5Gp"
      },
      "outputs": [],
      "source": [
        "class TransformerLayer(nn.Module):\n",
        "  def __init__(self, input_dim, d_model, dff):\n",
        "    super().__init__()\n",
        "\n",
        "    self.input_dim = input_dim\n",
        "    self.d_model = d_model\n",
        "    self.dff = dff\n",
        "\n",
        "    self.sa = SelfAttention(input_dim, d_model)\n",
        "    self.ffn = nn.Sequential(\n",
        "      nn.Linear(d_model, dff),\n",
        "      nn.ReLU(),\n",
        "      nn.Linear(dff, d_model)\n",
        "    )\n",
        "\n",
        "  def forward(self, x, mask):\n",
        "    x = self.sa(x, mask)\n",
        "    x = self.ffn(x)\n",
        "\n",
        "    return x"
      ]
    },
    {
      "cell_type": "code",
      "execution_count": null,
      "metadata": {
        "colab": {
          "base_uri": "https://localhost:8080/"
        },
        "id": "Uf_jMQWDUR79",
        "outputId": "18fc9a87-dff8-4bb9-8e6a-9a4046a60473"
      },
      "outputs": [
        {
          "name": "stdout",
          "output_type": "stream",
          "text": [
            "torch.Size([1, 400, 256])\n"
          ]
        }
      ],
      "source": [
        "import numpy as np\n",
        "\n",
        "\n",
        "def get_angles(pos, i, d_model):\n",
        "    angle_rates = 1 / np.power(10000, (2 * (i // 2)) / np.float32(d_model))\n",
        "    return pos * angle_rates\n",
        "\n",
        "def positional_encoding(position, d_model):\n",
        "    angle_rads = get_angles(np.arange(position)[:, None], np.arange(d_model)[None, :], d_model)\n",
        "    angle_rads[:, 0::2] = np.sin(angle_rads[:, 0::2])\n",
        "    angle_rads[:, 1::2] = np.cos(angle_rads[:, 1::2])\n",
        "    pos_encoding = angle_rads[None, ...]\n",
        "\n",
        "    return torch.FloatTensor(pos_encoding)\n",
        "\n",
        "\n",
        "max_len = 400\n",
        "print(positional_encoding(max_len, 256).shape)"
      ]
    },
    {
      "cell_type": "markdown",
      "metadata": {
        "id": "vFJNGV7ytTc3"
      },
      "source": [
        "## Loss function 및 classifier output 변경\n",
        "### 마지막 token id를 예측하는 것이기 때문에 binary classification이 아닌 일반적인 classification 문제로 바뀝니다. MNIST 과제에서 했던 것 처럼 loss와 TextClassifier의 출력 차원을 잘 조정하여 task를 풀 수 있도록 수정하시면 됩니다."
      ]
    },
    {
      "cell_type": "code",
      "execution_count": null,
      "metadata": {
        "id": "8MaiCGh8TsDH"
      },
      "outputs": [],
      "source": [
        "class TextClassifier(nn.Module):\n",
        "  def __init__(self, vocab_size, d_model, n_layers, dff):\n",
        "    super().__init__()\n",
        "\n",
        "    self.vocab_size = vocab_size\n",
        "    self.d_model = d_model\n",
        "    self.n_layers = n_layers\n",
        "    self.dff = dff\n",
        "\n",
        "    self.embedding = nn.Embedding(vocab_size, d_model)\n",
        "    self.pos_encoding = nn.parameter.Parameter(positional_encoding(max_len, d_model), requires_grad=False)\n",
        "    self.layers = nn.ModuleList([TransformerLayer(d_model, d_model, dff) for _ in range(n_layers)])\n",
        "    ##self.classification = nn.Linear(d_model, 1)\n",
        "    self.classification = nn.Linear(d_model, vocab_size) ## [MYCODE] 출력 맞추기\n",
        "\n",
        "\n",
        "  def forward(self, x):\n",
        "    mask = (x == tokenizer.pad_token_id)\n",
        "    mask = mask[:, None, :]\n",
        "    seq_len = x.shape[1]\n",
        "\n",
        "    x = self.embedding(x)\n",
        "    x = x * sqrt(self.d_model)\n",
        "    x = x + self.pos_encoding[:, :seq_len]\n",
        "\n",
        "    for layer in self.layers:\n",
        "      x = layer(x, mask)\n",
        "\n",
        "    x = x[:, 0]\n",
        "    x = self.classification(x)\n",
        "\n",
        "    return x\n",
        "\n",
        "\n",
        "model = TextClassifier(len(tokenizer), 32, 2, 32)"
      ]
    },
    {
      "cell_type": "code",
      "execution_count": null,
      "metadata": {
        "id": "YHVVsWBPQmnv"
      },
      "outputs": [],
      "source": [
        "from torch.optim import Adam\n",
        "\n",
        "lr = 0.001\n",
        "model = model.to('cuda')\n",
        "#loss_fn = nn.BCEWithLogitsLoss()\n",
        "loss_fn = nn.CrossEntropyLoss() ## [MYCODE] CrossEntropyLoss\n",
        "\n",
        "optimizer = Adam(model.parameters(), lr=lr)"
      ]
    },
    {
      "cell_type": "code",
      "execution_count": null,
      "metadata": {
        "id": "r88BALxO1zc1"
      },
      "outputs": [],
      "source": [
        "import numpy as np\n",
        "import matplotlib.pyplot as plt\n",
        "\n",
        "\n",
        "def accuracy(model, dataloader):\n",
        "  cnt = 0\n",
        "  acc = 0\n",
        "\n",
        "  for data in dataloader:\n",
        "    inputs, labels = data\n",
        "    inputs, labels = inputs.to('cuda'), labels.to('cuda')\n",
        "\n",
        "    preds = model(inputs)\n",
        "    preds = torch.argmax(preds, dim=-1) ## [MYCODE]\n",
        "    ## preds = (preds > 0).long()[..., 0]\n",
        "\n",
        "    cnt += labels.shape[0]\n",
        "    acc += (labels == preds).sum().item()\n",
        "\n",
        "  return acc / cnt"
      ]
    },
    {
      "cell_type": "markdown",
      "metadata": {
        "id": "wkonC_fwtBMr"
      },
      "source": [
        "## 학습 결과 report\n",
        "### 기존 Transformer 실습에서 사용한 모델로 last word prediction을 학습하고 학습 경과를 report하면 됩니다."
      ]
    },
    {
      "cell_type": "code",
      "execution_count": null,
      "metadata": {
        "colab": {
          "background_save": true,
          "base_uri": "https://localhost:8080/"
        },
        "id": "al_b56TYRILq",
        "outputId": "93a2d61c-5bb4-48d2-b551-071092e28c14"
      },
      "outputs": [
        {
          "name": "stdout",
          "output_type": "stream",
          "text": [
            "Epoch   0 | Train Loss: 1517.399522304535\n",
            "=========> Train acc: 0.558 | Test acc: 0.564\n",
            "Epoch   1 | Train Loss: 1163.4918028116226\n",
            "=========> Train acc: 0.558 | Test acc: 0.564\n",
            "Epoch   2 | Train Loss: 1128.9213540554047\n",
            "=========> Train acc: 0.558 | Test acc: 0.564\n",
            "Epoch   3 | Train Loss: 1108.0484811067581\n",
            "=========> Train acc: 0.558 | Test acc: 0.564\n",
            "Epoch   4 | Train Loss: 1091.4084408283234\n",
            "=========> Train acc: 0.558 | Test acc: 0.564\n",
            "Epoch   5 | Train Loss: 1079.2153568267822\n",
            "=========> Train acc: 0.558 | Test acc: 0.563\n",
            "Epoch   6 | Train Loss: 1075.7550430297852\n",
            "=========> Train acc: 0.558 | Test acc: 0.564\n",
            "Epoch   7 | Train Loss: 1071.6867592334747\n",
            "=========> Train acc: 0.558 | Test acc: 0.564\n",
            "Epoch   8 | Train Loss: 1062.3019181489944\n",
            "=========> Train acc: 0.558 | Test acc: 0.564\n",
            "Epoch   9 | Train Loss: 1058.6593780517578\n",
            "=========> Train acc: 0.558 | Test acc: 0.564\n",
            "Epoch  10 | Train Loss: 1056.2570887804031\n",
            "=========> Train acc: 0.558 | Test acc: 0.564\n",
            "Epoch  11 | Train Loss: 1051.8976901769638\n",
            "=========> Train acc: 0.558 | Test acc: 0.564\n",
            "Epoch  12 | Train Loss: 1046.3920583724976\n",
            "=========> Train acc: 0.558 | Test acc: 0.564\n",
            "Epoch  13 | Train Loss: 1040.7590501308441\n",
            "=========> Train acc: 0.558 | Test acc: 0.564\n",
            "Epoch  14 | Train Loss: 1035.7952700853348\n",
            "=========> Train acc: 0.558 | Test acc: 0.564\n",
            "Epoch  15 | Train Loss: 1026.8171527385712\n",
            "=========> Train acc: 0.558 | Test acc: 0.564\n",
            "Epoch  16 | Train Loss: 1021.7032970190048\n",
            "=========> Train acc: 0.555 | Test acc: 0.559\n",
            "Epoch  17 | Train Loss: 1019.8544070720673\n",
            "=========> Train acc: 0.558 | Test acc: 0.563\n",
            "Epoch  18 | Train Loss: 1014.5283912420273\n",
            "=========> Train acc: 0.558 | Test acc: 0.563\n",
            "Epoch  19 | Train Loss: 1008.9295355081558\n",
            "=========> Train acc: 0.559 | Test acc: 0.563\n",
            "Epoch  20 | Train Loss: 1004.6430389881134\n",
            "=========> Train acc: 0.558 | Test acc: 0.563\n",
            "Epoch  21 | Train Loss: 1002.8683105707169\n",
            "=========> Train acc: 0.559 | Test acc: 0.564\n",
            "Epoch  22 | Train Loss: 994.1465119123459\n",
            "=========> Train acc: 0.559 | Test acc: 0.563\n",
            "Epoch  23 | Train Loss: 986.2835490703583\n",
            "=========> Train acc: 0.559 | Test acc: 0.564\n",
            "Epoch  24 | Train Loss: 981.3540383577347\n",
            "=========> Train acc: 0.559 | Test acc: 0.562\n",
            "Epoch  25 | Train Loss: 977.5391728878021\n",
            "=========> Train acc: 0.558 | Test acc: 0.564\n",
            "Epoch  26 | Train Loss: 974.5445306301117\n",
            "=========> Train acc: 0.560 | Test acc: 0.563\n",
            "Epoch  27 | Train Loss: 970.878690123558\n",
            "=========> Train acc: 0.559 | Test acc: 0.563\n",
            "Epoch  28 | Train Loss: 965.683207988739\n",
            "=========> Train acc: 0.559 | Test acc: 0.562\n",
            "Epoch  29 | Train Loss: 962.7774695158005\n",
            "=========> Train acc: 0.559 | Test acc: 0.562\n",
            "Epoch  30 | Train Loss: 959.4379742145538\n",
            "=========> Train acc: 0.560 | Test acc: 0.562\n",
            "Epoch  31 | Train Loss: 952.8580830097198\n",
            "=========> Train acc: 0.559 | Test acc: 0.561\n",
            "Epoch  32 | Train Loss: 951.7559748888016\n",
            "=========> Train acc: 0.559 | Test acc: 0.561\n",
            "Epoch  33 | Train Loss: 944.655811548233\n",
            "=========> Train acc: 0.561 | Test acc: 0.558\n",
            "Epoch  34 | Train Loss: 943.8805358409882\n",
            "=========> Train acc: 0.561 | Test acc: 0.562\n",
            "Epoch  35 | Train Loss: 940.7660266160965\n",
            "=========> Train acc: 0.560 | Test acc: 0.560\n",
            "Epoch  36 | Train Loss: 937.7248904705048\n",
            "=========> Train acc: 0.561 | Test acc: 0.562\n",
            "Epoch  37 | Train Loss: 932.7224165201187\n",
            "=========> Train acc: 0.561 | Test acc: 0.562\n",
            "Epoch  38 | Train Loss: 928.2597459554672\n",
            "=========> Train acc: 0.560 | Test acc: 0.562\n",
            "Epoch  39 | Train Loss: 925.366361618042\n",
            "=========> Train acc: 0.561 | Test acc: 0.561\n",
            "Epoch  40 | Train Loss: 921.4776529073715\n",
            "=========> Train acc: 0.560 | Test acc: 0.559\n",
            "Epoch  41 | Train Loss: 917.9132707118988\n",
            "=========> Train acc: 0.560 | Test acc: 0.559\n",
            "Epoch  42 | Train Loss: 912.5466256141663\n",
            "=========> Train acc: 0.561 | Test acc: 0.561\n",
            "Epoch  43 | Train Loss: 913.8214237689972\n",
            "=========> Train acc: 0.562 | Test acc: 0.563\n",
            "Epoch  44 | Train Loss: 908.0471903085709\n",
            "=========> Train acc: 0.561 | Test acc: 0.561\n",
            "Epoch  45 | Train Loss: 904.7874320745468\n",
            "=========> Train acc: 0.561 | Test acc: 0.558\n",
            "Epoch  46 | Train Loss: 901.4111577272415\n",
            "=========> Train acc: 0.561 | Test acc: 0.557\n",
            "Epoch  47 | Train Loss: 898.3248702287674\n",
            "=========> Train acc: 0.562 | Test acc: 0.563\n",
            "Epoch  48 | Train Loss: 894.6051312685013\n",
            "=========> Train acc: 0.563 | Test acc: 0.561\n",
            "Epoch  49 | Train Loss: 895.4759339094162\n",
            "=========> Train acc: 0.563 | Test acc: 0.562\n"
          ]
        }
      ],
      "source": [
        "n_epochs = 50\n",
        "\n",
        "for epoch in range(n_epochs):\n",
        "  total_loss = 0.\n",
        "  model.train()\n",
        "  for data in train_loader:\n",
        "    model.zero_grad()\n",
        "    inputs, labels = data\n",
        "    inputs, labels = inputs.to('cuda'), labels.to('cuda')\n",
        "\n",
        "    preds = model(inputs)\n",
        "    loss = loss_fn(preds, labels)\n",
        "    loss.backward()\n",
        "    optimizer.step()\n",
        "\n",
        "    total_loss += loss.item()\n",
        "\n",
        "  print(f\"Epoch {epoch:3d} | Train Loss: {total_loss}\")\n",
        "\n",
        "  with torch.no_grad():\n",
        "    model.eval()\n",
        "    train_acc = accuracy(model, train_loader)\n",
        "    test_acc = accuracy(model, test_loader)\n",
        "    print(f\"=========> Train acc: {train_acc:.3f} | Test acc: {test_acc:.3f}\")"
      ]
    }
  ],
  "metadata": {
    "accelerator": "GPU",
    "colab": {
      "gpuType": "T4",
      "provenance": [],
      "include_colab_link": true
    },
    "kernelspec": {
      "display_name": "Python 3 (ipykernel)",
      "language": "python",
      "name": "python3"
    },
    "language_info": {
      "codemirror_mode": {
        "name": "ipython",
        "version": 3
      },
      "file_extension": ".py",
      "mimetype": "text/x-python",
      "name": "python",
      "nbconvert_exporter": "python",
      "pygments_lexer": "ipython3",
      "version": "3.10.14"
    }
  },
  "nbformat": 4,
  "nbformat_minor": 0
}