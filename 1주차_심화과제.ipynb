{
  "nbformat": 4,
  "nbformat_minor": 0,
  "metadata": {
    "colab": {
      "provenance": [],
      "gpuType": "T4",
      "include_colab_link": true
    },
    "kernelspec": {
      "name": "python3",
      "display_name": "Python 3"
    },
    "language_info": {
      "name": "python"
    },
    "accelerator": "GPU"
  },
  "cells": [
    {
      "cell_type": "markdown",
      "metadata": {
        "id": "view-in-github",
        "colab_type": "text"
      },
      "source": [
        "<a href=\"https://colab.research.google.com/github/seonghunlee94/AI_study/blob/master/1%EC%A3%BC%EC%B0%A8_%EC%8B%AC%ED%99%94%EA%B3%BC%EC%A0%9C.ipynb\" target=\"_parent\"><img src=\"https://colab.research.google.com/assets/colab-badge.svg\" alt=\"Open In Colab\"/></a>"
      ]
    },
    {
      "cell_type": "markdown",
      "source": [
        "# [심화과제] MNIST 예측 모델에 deep learning techniques 적용하기\n"
      ],
      "metadata": {
        "id": "OPJenlrhihrh"
      }
    },
    {
      "cell_type": "code",
      "execution_count": 2,
      "metadata": {
        "id": "6lXVfXoDtoQh"
      },
      "outputs": [],
      "source": [
        "import torch\n",
        "import torchvision\n",
        "import torchvision.transforms as transforms"
      ]
    },
    {
      "cell_type": "markdown",
      "source": [
        "### 1. Dataset 및 activation 함수 변경\n"
      ],
      "metadata": {
        "id": "kbHs0JiPhB5Q"
      }
    },
    {
      "cell_type": "markdown",
      "source": [
        "### 1-1 Dataset을 MNIST에서 CIFAR10으로 변경해줍니다.\n"
      ],
      "metadata": {
        "id": "vOYMuqyAhVKy"
      }
    },
    {
      "cell_type": "code",
      "source": [
        "transform = transforms.ToTensor()\n",
        "\n",
        "trainset = torchvision.datasets.CIFAR10( ## [MYCODE] CIFAR10\n",
        "    root='./data',\n",
        "    train=True,\n",
        "    download=True,\n",
        "    transform=transform\n",
        ")\n",
        "\n",
        "## [MYCODE] testset\n",
        "testset = torchvision.datasets.CIFAR10( ## [MYCODE] CIFAR10\n",
        "    root='./data',\n",
        "    train=False,\n",
        "    download=True,\n",
        "    transform=transform\n",
        ")"
      ],
      "metadata": {
        "id": "KAYlqPaRt6ti",
        "colab": {
          "base_uri": "https://localhost:8080/"
        },
        "outputId": "164d306e-38ab-4eba-9ff2-f8a5b7ef41f1"
      },
      "execution_count": 3,
      "outputs": [
        {
          "output_type": "stream",
          "name": "stdout",
          "text": [
            "Downloading https://www.cs.toronto.edu/~kriz/cifar-10-python.tar.gz to ./data/cifar-10-python.tar.gz\n"
          ]
        },
        {
          "output_type": "stream",
          "name": "stderr",
          "text": [
            "100%|██████████| 170M/170M [00:03<00:00, 48.3MB/s]\n"
          ]
        },
        {
          "output_type": "stream",
          "name": "stdout",
          "text": [
            "Extracting ./data/cifar-10-python.tar.gz to ./data\n",
            "Files already downloaded and verified\n"
          ]
        }
      ]
    },
    {
      "cell_type": "code",
      "source": [
        "from matplotlib import pyplot as plt\n",
        "\n",
        "\n",
        "print(len(trainset))\n",
        "print(trainset.classes)\n",
        "print(trainset[0][0].shape, trainset[0][1])\n",
        "plt.imshow(trainset[0][0][0], cmap='gray')"
      ],
      "metadata": {
        "colab": {
          "base_uri": "https://localhost:8080/",
          "height": 503
        },
        "id": "Zsp3sHmojyhT",
        "outputId": "dd2b7f12-509d-4bd7-a1e4-c25755443eec"
      },
      "execution_count": 4,
      "outputs": [
        {
          "output_type": "stream",
          "name": "stdout",
          "text": [
            "50000\n",
            "['airplane', 'automobile', 'bird', 'cat', 'deer', 'dog', 'frog', 'horse', 'ship', 'truck']\n",
            "torch.Size([3, 32, 32]) 6\n"
          ]
        },
        {
          "output_type": "execute_result",
          "data": {
            "text/plain": [
              "<matplotlib.image.AxesImage at 0x7aba34071600>"
            ]
          },
          "metadata": {},
          "execution_count": 4
        },
        {
          "output_type": "display_data",
          "data": {
            "text/plain": [
              "<Figure size 640x480 with 1 Axes>"
            ],
            "image/png": "[encoded data removed]"
          },
          "metadata": {}
        }
      ]
    },
    {
      "cell_type": "markdown",
      "source": [
        "### 1-3 학습 인자는 n_epochs = 50, batch_size = 256로 설정합니다."
      ],
      "metadata": {
        "id": "U-3FkVA6zIj8"
      }
    },
    {
      "cell_type": "code",
      "source": [
        "batch_size = 256 ## [MYCODE] batch_size = 256\n",
        "\n",
        "trainloader = torch.utils.data.DataLoader(\n",
        "    trainset,\n",
        "    batch_size=batch_size,\n",
        "    shuffle=True\n",
        ")\n",
        "\n",
        "testloader = torch.utils.data.DataLoader(\n",
        "    testset,\n",
        "    batch_size=batch_size,\n",
        "    shuffle=False\n",
        ")\n"
      ],
      "metadata": {
        "id": "UxKu3kA2i5WH"
      },
      "execution_count": 5,
      "outputs": []
    },
    {
      "cell_type": "markdown",
      "source": [
        "### 2. CIFAR10의 입력 shape 확인"
      ],
      "metadata": {
        "id": "-G_UHS_X3Qgr"
      }
    },
    {
      "cell_type": "code",
      "source": [
        "dataiter = iter(trainloader)\n",
        "images, labels = next(dataiter)\n",
        "print(images.shape, labels.shape)"
      ],
      "metadata": {
        "colab": {
          "base_uri": "https://localhost:8080/"
        },
        "id": "_Hd7XxyAvVNz",
        "outputId": "92592dfc-7502-4c91-a121-2a4cc8aa02fd"
      },
      "execution_count": 6,
      "outputs": [
        {
          "output_type": "stream",
          "name": "stdout",
          "text": [
            "torch.Size([256, 3, 32, 32]) torch.Size([256])\n"
          ]
        }
      ]
    },
    {
      "cell_type": "markdown",
      "source": [
        "### 1-2 Activation 함수를 nn.ReLU에서 nn.LeakyReLU로 변경해줍니다."
      ],
      "metadata": {
        "id": "h0ZY5mDimRUK"
      }
    },
    {
      "cell_type": "code",
      "source": [
        "from torch import nn\n",
        "\n",
        "\n",
        "class Model(nn.Module):\n",
        "  def __init__(self, input_dim, n_dim):\n",
        "    super().__init__()\n",
        "\n",
        "    self.layer1 = nn.Linear(input_dim, n_dim)\n",
        "    self.layer2 = nn.Linear(n_dim, n_dim)\n",
        "    self.layer3 = nn.Linear(n_dim, 10)\n",
        "\n",
        "    self.act = nn.LeakyReLU() ## [MYCODE] LeakyReLU\n",
        "\n",
        "  def forward(self, x):\n",
        "    x = torch.flatten(x, start_dim=1)\n",
        "    x = self.act(self.layer1(x))\n",
        "    x = self.act(self.layer2(x))\n",
        "    x = self.act(self.layer3(x))\n",
        "\n",
        "    return x\n",
        "\n",
        "\n",
        "model = Model(32 * 32 * 3, 1024) ## [MYCODE] 입력 차원 - Shape랑 맞쳐주기."
      ],
      "metadata": {
        "id": "OLOA-ZGTuVVG"
      },
      "execution_count": 7,
      "outputs": []
    },
    {
      "cell_type": "code",
      "source": [
        "model.parameters()"
      ],
      "metadata": {
        "colab": {
          "base_uri": "https://localhost:8080/"
        },
        "id": "zZtyXXqLoJke",
        "outputId": "b224a331-976d-4a59-9fe9-586505f4a568"
      },
      "execution_count": 8,
      "outputs": [
        {
          "output_type": "execute_result",
          "data": {
            "text/plain": [
              "<generator object Module.parameters at 0x7aba33e7fa70>"
            ]
          },
          "metadata": {},
          "execution_count": 8
        }
      ]
    },
    {
      "cell_type": "code",
      "source": [
        "for param in model.parameters():\n",
        "  print(param.shape)"
      ],
      "metadata": {
        "id": "hgOKv48YoNpX",
        "colab": {
          "base_uri": "https://localhost:8080/"
        },
        "outputId": "9e23e01a-eddd-49e1-be50-4c10a0d26fb2"
      },
      "execution_count": 9,
      "outputs": [
        {
          "output_type": "stream",
          "name": "stdout",
          "text": [
            "torch.Size([1024, 3072])\n",
            "torch.Size([1024])\n",
            "torch.Size([1024, 1024])\n",
            "torch.Size([1024])\n",
            "torch.Size([10, 1024])\n",
            "torch.Size([10])\n"
          ]
        }
      ]
    },
    {
      "cell_type": "markdown",
      "source": [
        "### 3. SGD와 Adam 성능 비교\n"
      ],
      "metadata": {
        "id": "NJGWfq4zhKnm"
      }
    },
    {
      "cell_type": "markdown",
      "source": [
        "### 3-1 Adam optimizer을 사용하여 학습하는 코드를 구현합니다."
      ],
      "metadata": {
        "id": "-w1ORew1-Mh7"
      }
    },
    {
      "cell_type": "code",
      "source": [
        "from torch.optim import SGD, Adam\n",
        "\n",
        "lr = 0.001\n",
        "model = model.to('cuda')\n",
        "\n",
        "criterion = nn.CrossEntropyLoss()\n",
        "optimizer_sgd = SGD(model.parameters(), lr=lr, momentum=0.9)\n",
        "\n",
        "optimizer_adam = Adam(model.parameters(), lr=lr) ## [MYCODE] Adam"
      ],
      "metadata": {
        "id": "ypS0TcOlvBhZ"
      },
      "execution_count": 10,
      "outputs": []
    },
    {
      "cell_type": "code",
      "source": [
        "train_sgd_accs = []\n",
        "test_sgd_accs = []\n",
        "\n",
        "train_adam_accs = []\n",
        "test_adam_accs = []"
      ],
      "metadata": {
        "id": "oKzILlcVg2i2"
      },
      "execution_count": 11,
      "outputs": []
    },
    {
      "cell_type": "code",
      "source": [
        "def accuracy(model, dataloader):\n",
        "  cnt = 0\n",
        "  acc = 0\n",
        "\n",
        "  for data in dataloader:\n",
        "    inputs, labels = data\n",
        "    inputs, labels = inputs.to('cuda'), labels.to('cuda')\n",
        "\n",
        "    preds = model(inputs)\n",
        "    preds = torch.argmax(preds, dim=-1)\n",
        "\n",
        "    cnt += labels.shape[0]\n",
        "    acc += (labels == preds).sum().item()\n",
        "\n",
        "  return acc / cnt"
      ],
      "metadata": {
        "id": "d6M4SpWQoML9"
      },
      "execution_count": 12,
      "outputs": []
    },
    {
      "cell_type": "code",
      "source": [
        "import numpy as np\n",
        "\n",
        "def plot_acc(train_accs, test_accs, label1='train', label2='test'):\n",
        "  x = np.arange(len(train_accs))\n",
        "\n",
        "  plt.plot(x, train_accs, label=label1)\n",
        "  plt.plot(x, test_accs, label=label2)\n",
        "  plt.legend()\n",
        "  plt.show()"
      ],
      "metadata": {
        "id": "dXXAqqN3e76I"
      },
      "execution_count": 13,
      "outputs": []
    },
    {
      "cell_type": "markdown",
      "source": [
        "### 1-3 학습 인자는 n_epochs = 50, batch_size = 256로 설정합니다."
      ],
      "metadata": {
        "id": "-7PxnrwUzqTJ"
      }
    },
    {
      "cell_type": "code",
      "source": [
        "n_epochs = 50 ## [MYCODE] n_epochs = 50\n",
        "\n",
        "for epoch in range(n_epochs):\n",
        "  total_loss = 0.\n",
        "  for data in trainloader:\n",
        "    model.zero_grad()\n",
        "    inputs, labels = data\n",
        "    inputs, labels = inputs.to('cuda'), labels.to('cuda')\n",
        "\n",
        "    preds = model(inputs)\n",
        "    #print(preds.shape, labels.shape)\n",
        "    #break\n",
        "    loss = criterion(preds, labels)\n",
        "    loss.backward()\n",
        "    optimizer_sgd.step()\n",
        "\n",
        "    total_loss += loss.item()\n",
        "\n",
        "  # 직접 작성\n",
        "  train_acc = accuracy(model, trainloader)\n",
        "  test_acc = accuracy(model, testloader)\n",
        "  train_sgd_accs.append(train_acc)\n",
        "  test_sgd_accs.append(test_acc)\n",
        "\n",
        "  print(f\"Epoch {epoch:3d} | Loss: {total_loss} | Train Acc: {train_acc:.4f} | Test Acc: {test_acc:.4f}\")"
      ],
      "metadata": {
        "colab": {
          "base_uri": "https://localhost:8080/"
        },
        "id": "TryX1hewvNiB",
        "outputId": "6476037f-f8e6-47a3-86a3-e347a983756f"
      },
      "execution_count": 14,
      "outputs": [
        {
          "output_type": "stream",
          "name": "stdout",
          "text": [
            "Epoch   0 | Loss: 445.0347521305084 | Train Acc: 0.2246 | Test Acc: 0.2240\n",
            "Epoch   1 | Loss: 428.29803824424744 | Train Acc: 0.2563 | Test Acc: 0.2562\n",
            "Epoch   2 | Loss: 410.9425325393677 | Train Acc: 0.2780 | Test Acc: 0.2744\n",
            "Epoch   3 | Loss: 396.4647316932678 | Train Acc: 0.3097 | Test Acc: 0.3027\n",
            "Epoch   4 | Loss: 379.97491705417633 | Train Acc: 0.3245 | Test Acc: 0.3191\n",
            "Epoch   5 | Loss: 371.9984200000763 | Train Acc: 0.3369 | Test Acc: 0.3333\n",
            "Epoch   6 | Loss: 366.5014455318451 | Train Acc: 0.3455 | Test Acc: 0.3400\n",
            "Epoch   7 | Loss: 361.8308011293411 | Train Acc: 0.3568 | Test Acc: 0.3521\n",
            "Epoch   8 | Loss: 357.3060734272003 | Train Acc: 0.3660 | Test Acc: 0.3620\n",
            "Epoch   9 | Loss: 353.1909364461899 | Train Acc: 0.3738 | Test Acc: 0.3729\n",
            "Epoch  10 | Loss: 349.25117123126984 | Train Acc: 0.3730 | Test Acc: 0.3738\n",
            "Epoch  11 | Loss: 345.6527991294861 | Train Acc: 0.3830 | Test Acc: 0.3855\n",
            "Epoch  12 | Loss: 342.3711504936218 | Train Acc: 0.3892 | Test Acc: 0.3919\n",
            "Epoch  13 | Loss: 339.05409955978394 | Train Acc: 0.3906 | Test Acc: 0.3946\n",
            "Epoch  14 | Loss: 335.909640789032 | Train Acc: 0.3984 | Test Acc: 0.3989\n",
            "Epoch  15 | Loss: 333.3269784450531 | Train Acc: 0.4052 | Test Acc: 0.4071\n",
            "Epoch  16 | Loss: 330.506707906723 | Train Acc: 0.4053 | Test Acc: 0.4008\n",
            "Epoch  17 | Loss: 328.0275368690491 | Train Acc: 0.4099 | Test Acc: 0.4128\n",
            "Epoch  18 | Loss: 325.2736370563507 | Train Acc: 0.4185 | Test Acc: 0.4187\n",
            "Epoch  19 | Loss: 323.02060174942017 | Train Acc: 0.4259 | Test Acc: 0.4260\n",
            "Epoch  20 | Loss: 320.53076112270355 | Train Acc: 0.4312 | Test Acc: 0.4273\n",
            "Epoch  21 | Loss: 318.18038296699524 | Train Acc: 0.4302 | Test Acc: 0.4292\n",
            "Epoch  22 | Loss: 315.97648882865906 | Train Acc: 0.4391 | Test Acc: 0.4389\n",
            "Epoch  23 | Loss: 313.9813007116318 | Train Acc: 0.4435 | Test Acc: 0.4398\n",
            "Epoch  24 | Loss: 312.3793970346451 | Train Acc: 0.4470 | Test Acc: 0.4433\n",
            "Epoch  25 | Loss: 309.50703597068787 | Train Acc: 0.4518 | Test Acc: 0.4484\n",
            "Epoch  26 | Loss: 307.5548595190048 | Train Acc: 0.4550 | Test Acc: 0.4501\n",
            "Epoch  27 | Loss: 305.84996831417084 | Train Acc: 0.4567 | Test Acc: 0.4512\n",
            "Epoch  28 | Loss: 304.41963398456573 | Train Acc: 0.4587 | Test Acc: 0.4481\n",
            "Epoch  29 | Loss: 301.86014115810394 | Train Acc: 0.4590 | Test Acc: 0.4578\n",
            "Epoch  30 | Loss: 300.5065817832947 | Train Acc: 0.4704 | Test Acc: 0.4590\n",
            "Epoch  31 | Loss: 298.22882187366486 | Train Acc: 0.4714 | Test Acc: 0.4608\n",
            "Epoch  32 | Loss: 296.76665222644806 | Train Acc: 0.4736 | Test Acc: 0.4586\n",
            "Epoch  33 | Loss: 295.08245491981506 | Train Acc: 0.4738 | Test Acc: 0.4649\n",
            "Epoch  34 | Loss: 293.4161763191223 | Train Acc: 0.4772 | Test Acc: 0.4659\n",
            "Epoch  35 | Loss: 291.57510256767273 | Train Acc: 0.4777 | Test Acc: 0.4648\n",
            "Epoch  36 | Loss: 289.8730878829956 | Train Acc: 0.4831 | Test Acc: 0.4674\n",
            "Epoch  37 | Loss: 288.481076002121 | Train Acc: 0.4833 | Test Acc: 0.4683\n",
            "Epoch  38 | Loss: 286.6620272397995 | Train Acc: 0.4853 | Test Acc: 0.4677\n",
            "Epoch  39 | Loss: 285.40514183044434 | Train Acc: 0.4954 | Test Acc: 0.4760\n",
            "Epoch  40 | Loss: 283.67442190647125 | Train Acc: 0.4914 | Test Acc: 0.4779\n",
            "Epoch  41 | Loss: 282.21065855026245 | Train Acc: 0.4963 | Test Acc: 0.4780\n",
            "Epoch  42 | Loss: 280.61179995536804 | Train Acc: 0.5019 | Test Acc: 0.4818\n",
            "Epoch  43 | Loss: 279.2258006334305 | Train Acc: 0.5041 | Test Acc: 0.4834\n",
            "Epoch  44 | Loss: 278.1065242290497 | Train Acc: 0.5058 | Test Acc: 0.4820\n",
            "Epoch  45 | Loss: 276.07372987270355 | Train Acc: 0.5072 | Test Acc: 0.4834\n",
            "Epoch  46 | Loss: 274.9827538728714 | Train Acc: 0.5123 | Test Acc: 0.4841\n",
            "Epoch  47 | Loss: 272.816663980484 | Train Acc: 0.5153 | Test Acc: 0.4937\n",
            "Epoch  48 | Loss: 272.0292547941208 | Train Acc: 0.5157 | Test Acc: 0.4907\n",
            "Epoch  49 | Loss: 270.5070369243622 | Train Acc: 0.5177 | Test Acc: 0.4898\n"
          ]
        }
      ]
    },
    {
      "cell_type": "markdown",
      "source": [
        "### 3-1 Adam optimizer을 사용하여 학습하는 코드를 구현합니다."
      ],
      "metadata": {
        "id": "aV2DQqjZAx-j"
      }
    },
    {
      "cell_type": "code",
      "source": [
        "for epoch in range(n_epochs):\n",
        "  total_loss = 0.\n",
        "  for data in trainloader:\n",
        "    model.zero_grad()\n",
        "    inputs, labels = data\n",
        "    inputs, labels = inputs.to('cuda'), labels.to('cuda')\n",
        "\n",
        "    preds = model(inputs)\n",
        "    loss = criterion(preds, labels)\n",
        "    loss.backward()\n",
        "    optimizer_adam.step()\n",
        "\n",
        "    total_loss += loss.item()\n",
        "\n",
        "  train_acc = accuracy(model, trainloader)\n",
        "  test_acc = accuracy(model, testloader)\n",
        "  train_adam_accs.append(train_acc)\n",
        "  test_adam_accs.append(test_acc)\n",
        "\n",
        "  print(f\"Epoch {epoch:3d} | Loss: {total_loss} | Train Acc: {train_acc:.4f} | Test Acc: {test_acc:.4f}\")"
      ],
      "metadata": {
        "colab": {
          "base_uri": "https://localhost:8080/"
        },
        "id": "fOH7VqnVAqNf",
        "outputId": "91f83c47-6160-47d8-fd72-903145e642b0"
      },
      "execution_count": 15,
      "outputs": [
        {
          "output_type": "stream",
          "name": "stdout",
          "text": [
            "Epoch   0 | Loss: 434.88820815086365 | Train Acc: 0.4008 | Test Acc: 0.3983\n",
            "Epoch   1 | Loss: 325.61639285087585 | Train Acc: 0.4177 | Test Acc: 0.4124\n",
            "Epoch   2 | Loss: 307.53505432605743 | Train Acc: 0.4481 | Test Acc: 0.4438\n",
            "Epoch   3 | Loss: 295.9785507917404 | Train Acc: 0.4621 | Test Acc: 0.4498\n",
            "Epoch   4 | Loss: 288.594321846962 | Train Acc: 0.4820 | Test Acc: 0.4646\n",
            "Epoch   5 | Loss: 281.18153500556946 | Train Acc: 0.4993 | Test Acc: 0.4791\n",
            "Epoch   6 | Loss: 275.68824315071106 | Train Acc: 0.5118 | Test Acc: 0.4903\n",
            "Epoch   7 | Loss: 268.45937144756317 | Train Acc: 0.5108 | Test Acc: 0.4818\n",
            "Epoch   8 | Loss: 264.5369086265564 | Train Acc: 0.5261 | Test Acc: 0.4930\n",
            "Epoch   9 | Loss: 260.6629910469055 | Train Acc: 0.5472 | Test Acc: 0.5069\n",
            "Epoch  10 | Loss: 254.47015845775604 | Train Acc: 0.5559 | Test Acc: 0.5120\n",
            "Epoch  11 | Loss: 249.79278218746185 | Train Acc: 0.5589 | Test Acc: 0.5020\n",
            "Epoch  12 | Loss: 244.16228830814362 | Train Acc: 0.5756 | Test Acc: 0.5204\n",
            "Epoch  13 | Loss: 239.5631353855133 | Train Acc: 0.5843 | Test Acc: 0.5261\n",
            "Epoch  14 | Loss: 234.30404591560364 | Train Acc: 0.5856 | Test Acc: 0.5231\n",
            "Epoch  15 | Loss: 230.30469399690628 | Train Acc: 0.5922 | Test Acc: 0.5148\n",
            "Epoch  16 | Loss: 225.69890981912613 | Train Acc: 0.5927 | Test Acc: 0.5167\n",
            "Epoch  17 | Loss: 221.44771713018417 | Train Acc: 0.6074 | Test Acc: 0.5236\n",
            "Epoch  18 | Loss: 217.84851157665253 | Train Acc: 0.6081 | Test Acc: 0.5203\n",
            "Epoch  19 | Loss: 213.38853973150253 | Train Acc: 0.6385 | Test Acc: 0.5362\n",
            "Epoch  20 | Loss: 205.81143575906754 | Train Acc: 0.6482 | Test Acc: 0.5399\n",
            "Epoch  21 | Loss: 202.3490949869156 | Train Acc: 0.6408 | Test Acc: 0.5286\n",
            "Epoch  22 | Loss: 197.8738974928856 | Train Acc: 0.6432 | Test Acc: 0.5224\n",
            "Epoch  23 | Loss: 194.92366963624954 | Train Acc: 0.6684 | Test Acc: 0.5321\n",
            "Epoch  24 | Loss: 189.04629147052765 | Train Acc: 0.6418 | Test Acc: 0.5148\n",
            "Epoch  25 | Loss: 184.9076423048973 | Train Acc: 0.6879 | Test Acc: 0.5375\n",
            "Epoch  26 | Loss: 180.8996381163597 | Train Acc: 0.6972 | Test Acc: 0.5418\n",
            "Epoch  27 | Loss: 176.42615073919296 | Train Acc: 0.6985 | Test Acc: 0.5328\n",
            "Epoch  28 | Loss: 170.9905902147293 | Train Acc: 0.7040 | Test Acc: 0.5367\n",
            "Epoch  29 | Loss: 167.38581544160843 | Train Acc: 0.7041 | Test Acc: 0.5255\n",
            "Epoch  30 | Loss: 163.2474463582039 | Train Acc: 0.7256 | Test Acc: 0.5414\n",
            "Epoch  31 | Loss: 158.91118264198303 | Train Acc: 0.7237 | Test Acc: 0.5280\n",
            "Epoch  32 | Loss: 153.915662586689 | Train Acc: 0.7425 | Test Acc: 0.5345\n",
            "Epoch  33 | Loss: 149.84416073560715 | Train Acc: 0.7382 | Test Acc: 0.5303\n",
            "Epoch  34 | Loss: 146.01463896036148 | Train Acc: 0.7684 | Test Acc: 0.5364\n",
            "Epoch  35 | Loss: 140.89081376791 | Train Acc: 0.7763 | Test Acc: 0.5345\n",
            "Epoch  36 | Loss: 138.86433732509613 | Train Acc: 0.7531 | Test Acc: 0.5238\n",
            "Epoch  37 | Loss: 134.9026815891266 | Train Acc: 0.7811 | Test Acc: 0.5321\n",
            "Epoch  38 | Loss: 127.67893746495247 | Train Acc: 0.7852 | Test Acc: 0.5308\n",
            "Epoch  39 | Loss: 123.79979532957077 | Train Acc: 0.8096 | Test Acc: 0.5381\n",
            "Epoch  40 | Loss: 120.52709326148033 | Train Acc: 0.7754 | Test Acc: 0.5182\n",
            "Epoch  41 | Loss: 116.7949326634407 | Train Acc: 0.7780 | Test Acc: 0.5219\n",
            "Epoch  42 | Loss: 113.82998144626617 | Train Acc: 0.8108 | Test Acc: 0.5298\n",
            "Epoch  43 | Loss: 110.22691023349762 | Train Acc: 0.8248 | Test Acc: 0.5301\n",
            "Epoch  44 | Loss: 107.14826992154121 | Train Acc: 0.8201 | Test Acc: 0.5303\n",
            "Epoch  45 | Loss: 102.5599063038826 | Train Acc: 0.8253 | Test Acc: 0.5252\n",
            "Epoch  46 | Loss: 100.20878076553345 | Train Acc: 0.8350 | Test Acc: 0.5281\n",
            "Epoch  47 | Loss: 97.71603706479073 | Train Acc: 0.8496 | Test Acc: 0.5236\n",
            "Epoch  48 | Loss: 91.33578461408615 | Train Acc: 0.8275 | Test Acc: 0.5076\n",
            "Epoch  49 | Loss: 88.13719263672829 | Train Acc: 0.8589 | Test Acc: 0.5242\n"
          ]
        }
      ]
    },
    {
      "cell_type": "code",
      "source": [
        "idx = 0\n",
        "\n",
        "x = trainset[idx][0][None]\n",
        "x = x.to('cuda')\n",
        "\n",
        "print(model(x))\n",
        "print(trainset[idx][1])"
      ],
      "metadata": {
        "id": "Zct0ssSKwjt1",
        "colab": {
          "base_uri": "https://localhost:8080/"
        },
        "outputId": "23ee2f6b-f29a-47c0-91f5-8f8558844475"
      },
      "execution_count": 16,
      "outputs": [
        {
          "output_type": "stream",
          "name": "stdout",
          "text": [
            "tensor([[ 2.5553, -0.0740,  4.0428,  6.5339,  4.8128,  5.9219,  9.6351,  3.7558,\n",
            "         -0.0486, -0.0659]], device='cuda:0', grad_fn=<LeakyReluBackward0>)\n",
            "6\n"
          ]
        }
      ]
    },
    {
      "cell_type": "markdown",
      "source": [
        "### 3-2 정확도 plot"
      ],
      "metadata": {
        "id": "e1KuIJlu3mys"
      }
    },
    {
      "cell_type": "code",
      "source": [
        "plot_acc(train_sgd_accs, train_adam_accs, 'SGD', 'Adam'); ## [MYCODE] plot1"
      ],
      "metadata": {
        "colab": {
          "base_uri": "https://localhost:8080/",
          "height": 430
        },
        "id": "q8FP_C6ifAdv",
        "outputId": "21909bda-c19b-445a-b8ad-283e7e56d248"
      },
      "execution_count": 17,
      "outputs": [
        {
          "output_type": "display_data",
          "data": {
            "text/plain": [
              "<Figure size 640x480 with 1 Axes>"
            ],
            "image/png": "[encoded data removed]"
          },
          "metadata": {}
        }
      ]
    },
    {
      "cell_type": "markdown",
      "source": [
        "## 4. Leaky ReLU와 Sigmoid 성능 비교"
      ],
      "metadata": {
        "id": "DyPq9Wy4nDxT"
      }
    },
    {
      "cell_type": "markdown",
      "source": [
        "### 4-1 Activation 함수가 nn.Sigmoid인 class를 새로 정의합니다."
      ],
      "metadata": {
        "id": "Hs3e7B_8nJh1"
      }
    },
    {
      "cell_type": "code",
      "source": [
        "from torch import nn\n",
        "\n",
        "\n",
        "class Model_sigmoid(nn.Module):\n",
        "  def __init__(self, input_dim, n_dim):\n",
        "    super().__init__()\n",
        "\n",
        "    self.layer1 = nn.Linear(input_dim, n_dim)\n",
        "    self.layer2 = nn.Linear(n_dim, n_dim)\n",
        "    self.layer3 = nn.Linear(n_dim, 10)\n",
        "\n",
        "    self.act = nn.Sigmoid() ## [MYCODE] Sigmoid\n",
        "\n",
        "  def forward(self, x):\n",
        "    x = torch.flatten(x, start_dim=1)\n",
        "    x = self.act(self.layer1(x))\n",
        "    x = self.act(self.layer2(x))\n",
        "    x = self.act(self.layer3(x))\n",
        "\n",
        "    return x\n",
        "\n",
        "\n",
        "model_sigmoid = Model_sigmoid(32 * 32 * 3, 1024) ## [MYCODE] 입력 차원 - Shape랑 맞쳐주기.\n",
        "model_sigmoid = model_sigmoid.to('cuda')"
      ],
      "metadata": {
        "id": "TNk-pJZLfkVZ"
      },
      "execution_count": 18,
      "outputs": []
    },
    {
      "cell_type": "code",
      "source": [
        "model_sigmoid.parameters()"
      ],
      "metadata": {
        "colab": {
          "base_uri": "https://localhost:8080/"
        },
        "id": "W11PEC2VmIO-",
        "outputId": "a877caf7-fbec-4d2f-91b1-c9081d9ce182"
      },
      "execution_count": 19,
      "outputs": [
        {
          "output_type": "execute_result",
          "data": {
            "text/plain": [
              "<generator object Module.parameters at 0x7aba0dda26c0>"
            ]
          },
          "metadata": {},
          "execution_count": 19
        }
      ]
    },
    {
      "cell_type": "code",
      "source": [
        "train_sigmoid_accs = []\n",
        "test_sigmoid_accs = []"
      ],
      "metadata": {
        "id": "syfTie60oSQH"
      },
      "execution_count": 20,
      "outputs": []
    },
    {
      "cell_type": "code",
      "source": [
        "optimizer_adam_sigmoid = Adam(model_sigmoid.parameters(), lr=lr) ## [MYCODE] Adam sigmoid optimaizer"
      ],
      "metadata": {
        "id": "n6lxzlMgn9zW"
      },
      "execution_count": 21,
      "outputs": []
    },
    {
      "cell_type": "code",
      "source": [
        "for epoch in range(n_epochs):\n",
        "  total_loss = 0.\n",
        "  for data in trainloader:\n",
        "    optimizer_adam_sigmoid.zero_grad()\n",
        "    inputs, labels = data\n",
        "    inputs, labels = inputs.to('cuda'), labels.to('cuda')\n",
        "\n",
        "    preds = model_sigmoid(inputs)\n",
        "    loss = criterion(preds, labels)\n",
        "    loss.backward()\n",
        "    optimizer_adam_sigmoid.step()\n",
        "\n",
        "    total_loss += loss.item()\n",
        "\n",
        "  train_acc = accuracy(model_sigmoid, trainloader)\n",
        "  test_acc = accuracy(model_sigmoid, testloader)\n",
        "  train_sigmoid_accs.append(train_acc)\n",
        "  test_sigmoid_accs.append(test_acc)\n",
        "\n",
        "  print(f\"Epoch {epoch:3d} | Loss: {total_loss} | Train Acc: {train_acc:.4f} | Test Acc: {test_acc:.4f}\")"
      ],
      "metadata": {
        "colab": {
          "base_uri": "https://localhost:8080/"
        },
        "id": "3pdmiazbnCky",
        "outputId": "f886bed3-0c80-4b38-b342-a38a3acfc92e"
      },
      "execution_count": 22,
      "outputs": [
        {
          "output_type": "stream",
          "name": "stdout",
          "text": [
            "Epoch   0 | Loss: 411.9720619916916 | Train Acc: 0.3003 | Test Acc: 0.3000\n",
            "Epoch   1 | Loss: 394.9290255308151 | Train Acc: 0.3659 | Test Acc: 0.3598\n",
            "Epoch   2 | Loss: 388.3141143321991 | Train Acc: 0.3670 | Test Acc: 0.3673\n",
            "Epoch   3 | Loss: 383.80438256263733 | Train Acc: 0.3865 | Test Acc: 0.3840\n",
            "Epoch   4 | Loss: 381.6131761074066 | Train Acc: 0.3567 | Test Acc: 0.3547\n",
            "Epoch   5 | Loss: 380.3869421482086 | Train Acc: 0.3835 | Test Acc: 0.3855\n",
            "Epoch   6 | Loss: 378.9313757419586 | Train Acc: 0.3914 | Test Acc: 0.3855\n",
            "Epoch   7 | Loss: 376.1131510734558 | Train Acc: 0.4227 | Test Acc: 0.4161\n",
            "Epoch   8 | Loss: 375.5036815404892 | Train Acc: 0.4211 | Test Acc: 0.4118\n",
            "Epoch   9 | Loss: 374.2102988958359 | Train Acc: 0.4371 | Test Acc: 0.4336\n",
            "Epoch  10 | Loss: 372.20754134655 | Train Acc: 0.4460 | Test Acc: 0.4369\n",
            "Epoch  11 | Loss: 371.2399423122406 | Train Acc: 0.4315 | Test Acc: 0.4233\n",
            "Epoch  12 | Loss: 371.6247615814209 | Train Acc: 0.4604 | Test Acc: 0.4474\n",
            "Epoch  13 | Loss: 368.56184566020966 | Train Acc: 0.4461 | Test Acc: 0.4322\n",
            "Epoch  14 | Loss: 368.34585762023926 | Train Acc: 0.4557 | Test Acc: 0.4395\n",
            "Epoch  15 | Loss: 367.71938967704773 | Train Acc: 0.4523 | Test Acc: 0.4372\n",
            "Epoch  16 | Loss: 366.6446100473404 | Train Acc: 0.4725 | Test Acc: 0.4554\n",
            "Epoch  17 | Loss: 366.9477969408035 | Train Acc: 0.4773 | Test Acc: 0.4527\n",
            "Epoch  18 | Loss: 364.9371838569641 | Train Acc: 0.4785 | Test Acc: 0.4601\n",
            "Epoch  19 | Loss: 364.52533888816833 | Train Acc: 0.4835 | Test Acc: 0.4634\n",
            "Epoch  20 | Loss: 364.04991698265076 | Train Acc: 0.4913 | Test Acc: 0.4600\n",
            "Epoch  21 | Loss: 362.81905233860016 | Train Acc: 0.5005 | Test Acc: 0.4789\n",
            "Epoch  22 | Loss: 362.504310965538 | Train Acc: 0.4849 | Test Acc: 0.4613\n",
            "Epoch  23 | Loss: 362.82519233226776 | Train Acc: 0.4904 | Test Acc: 0.4677\n",
            "Epoch  24 | Loss: 361.25396025180817 | Train Acc: 0.5004 | Test Acc: 0.4779\n",
            "Epoch  25 | Loss: 360.86913108825684 | Train Acc: 0.4843 | Test Acc: 0.4623\n",
            "Epoch  26 | Loss: 359.96247959136963 | Train Acc: 0.4986 | Test Acc: 0.4713\n",
            "Epoch  27 | Loss: 359.36499643325806 | Train Acc: 0.4920 | Test Acc: 0.4622\n",
            "Epoch  28 | Loss: 359.53485321998596 | Train Acc: 0.5058 | Test Acc: 0.4738\n",
            "Epoch  29 | Loss: 358.697363615036 | Train Acc: 0.4967 | Test Acc: 0.4610\n",
            "Epoch  30 | Loss: 358.0996869802475 | Train Acc: 0.5064 | Test Acc: 0.4704\n",
            "Epoch  31 | Loss: 357.9555848836899 | Train Acc: 0.5206 | Test Acc: 0.4869\n",
            "Epoch  32 | Loss: 356.9588282108307 | Train Acc: 0.5162 | Test Acc: 0.4795\n",
            "Epoch  33 | Loss: 356.5675505399704 | Train Acc: 0.5243 | Test Acc: 0.4841\n",
            "Epoch  34 | Loss: 356.2137818336487 | Train Acc: 0.5070 | Test Acc: 0.4677\n",
            "Epoch  35 | Loss: 355.7903709411621 | Train Acc: 0.5193 | Test Acc: 0.4780\n",
            "Epoch  36 | Loss: 355.94594943523407 | Train Acc: 0.5135 | Test Acc: 0.4705\n",
            "Epoch  37 | Loss: 356.91587018966675 | Train Acc: 0.5131 | Test Acc: 0.4799\n",
            "Epoch  38 | Loss: 354.61708748340607 | Train Acc: 0.4881 | Test Acc: 0.4537\n",
            "Epoch  39 | Loss: 354.52419877052307 | Train Acc: 0.5147 | Test Acc: 0.4836\n",
            "Epoch  40 | Loss: 355.49688374996185 | Train Acc: 0.5279 | Test Acc: 0.4802\n",
            "Epoch  41 | Loss: 354.0543261766434 | Train Acc: 0.5317 | Test Acc: 0.4879\n",
            "Epoch  42 | Loss: 353.2335777282715 | Train Acc: 0.5360 | Test Acc: 0.4959\n",
            "Epoch  43 | Loss: 352.8213515281677 | Train Acc: 0.5353 | Test Acc: 0.4872\n",
            "Epoch  44 | Loss: 352.82395017147064 | Train Acc: 0.5269 | Test Acc: 0.4845\n",
            "Epoch  45 | Loss: 352.53835141658783 | Train Acc: 0.5312 | Test Acc: 0.4902\n",
            "Epoch  46 | Loss: 352.51586616039276 | Train Acc: 0.5274 | Test Acc: 0.4754\n",
            "Epoch  47 | Loss: 351.832559466362 | Train Acc: 0.5389 | Test Acc: 0.4894\n",
            "Epoch  48 | Loss: 351.3643045425415 | Train Acc: 0.5398 | Test Acc: 0.4835\n",
            "Epoch  49 | Loss: 350.90479362010956 | Train Acc: 0.5499 | Test Acc: 0.4924\n"
          ]
        }
      ]
    },
    {
      "cell_type": "markdown",
      "source": [
        "### 4-2 (Plot 2) Adam optimizer를 가지고 sigmoid와 leaky ReLU 모델들을 학습한 후, epoch에 따른 train 정확도를 비교합니다."
      ],
      "metadata": {
        "id": "Jub9HFVXoelT"
      }
    },
    {
      "cell_type": "code",
      "source": [
        "plot_acc(train_adam_accs, train_sigmoid_accs, 'leaky ReLU', 'Sigmoid'); ## [MYCODE] plot2"
      ],
      "metadata": {
        "colab": {
          "base_uri": "https://localhost:8080/",
          "height": 430
        },
        "id": "6bE20wyvodv-",
        "outputId": "dbd78a05-3738-4c9e-8f4b-cdc5051b1ba7"
      },
      "execution_count": 23,
      "outputs": [
        {
          "output_type": "display_data",
          "data": {
            "text/plain": [
              "<Figure size 640x480 with 1 Axes>"
            ],
            "image/png": "[encoded data removed]"
          },
          "metadata": {}
        }
      ]
    },
    {
      "cell_type": "markdown",
      "source": [
        "## 5. Dropout을 적용한 이후의 generalization error 확인"
      ],
      "metadata": {
        "id": "2BBaIY_rr126"
      }
    },
    {
      "cell_type": "markdown",
      "source": [
        "### 5-1 PyTorch dropout을 leaky ReLU를 사용하는 MLP의 모든 layer에 적용한 class를 새로 정의합니다. Dropout 확률은 0.1로 설정합니다."
      ],
      "metadata": {
        "id": "DYOXgPIWDCsA"
      }
    },
    {
      "cell_type": "markdown",
      "source": [],
      "metadata": {
        "id": "PLDqGEP5r56r"
      }
    },
    {
      "cell_type": "code",
      "source": [
        "from torch import nn\n",
        "\n",
        "\n",
        "class Model_drop(nn.Module):\n",
        "  def __init__(self, input_dim, n_dim):\n",
        "    super().__init__()\n",
        "\n",
        "    self.layer1 = nn.Linear(input_dim, n_dim)\n",
        "    self.layer2 = nn.Linear(n_dim, n_dim)\n",
        "    self.drop_out = nn.Dropout(0.1) ## [MYCODE] dropout\n",
        "    self.layer3 = nn.Linear(n_dim, 10)\n",
        "\n",
        "    self.act = nn.LeakyReLU()\n",
        "\n",
        "  def forward(self, x):\n",
        "    x = torch.flatten(x, start_dim=1)\n",
        "    x = self.act(self.layer1(x))\n",
        "    x = self.drop_out(x) ## [MYCODE] dropout\n",
        "    x = self.act(self.layer2(x))\n",
        "    x = self.drop_out(x) ## [MYCODE] dropout\n",
        "    x = self.act(self.layer3(x))\n",
        "\n",
        "    return x\n",
        "\n",
        "\n",
        "model_drop = Model_drop(32 * 32 * 3, 1024)\n",
        "model_drop = model_drop.to('cuda')"
      ],
      "metadata": {
        "id": "k-qAo7p3okqa"
      },
      "execution_count": 24,
      "outputs": []
    },
    {
      "cell_type": "code",
      "source": [
        "train_drop_accs = []\n",
        "test_drop_accs = []"
      ],
      "metadata": {
        "id": "bBLkLc4FCyI3"
      },
      "execution_count": 25,
      "outputs": []
    },
    {
      "cell_type": "code",
      "source": [
        "optimizer_adam_drop = Adam(model_drop.parameters(), lr=lr)"
      ],
      "metadata": {
        "id": "utnXywSMEMds"
      },
      "execution_count": 26,
      "outputs": []
    },
    {
      "cell_type": "markdown",
      "source": [
        "### 5-2 학습 코드에서 다음 부분들을 추가해줍니다:\n",
        "### model.train()을 for data in trainloader: 이전 줄에 둡니다.\n",
        "### trainloader와 testloader에 대한 정확도를 계산하는 코드를 다음과 같이 변경합니다"
      ],
      "metadata": {
        "id": "1QlHJYNBHAHS"
      }
    },
    {
      "cell_type": "code",
      "source": [
        "for epoch in range(n_epochs):\n",
        "  total_loss = 0.\n",
        "  model_drop.train() ## [MYCODE] model_drop.train()\n",
        "  for data in trainloader:\n",
        "    optimizer_adam_drop.zero_grad()\n",
        "    inputs, labels = data\n",
        "    inputs, labels = inputs.to('cuda'), labels.to('cuda')\n",
        "\n",
        "    preds = model_drop(inputs)\n",
        "    loss = criterion(preds, labels)\n",
        "    loss.backward()\n",
        "    optimizer_adam_drop.step()\n",
        "\n",
        "    total_loss += loss.item()\n",
        "\n",
        "  ## [MYCODE] model_drop.eval()\n",
        "  with torch.no_grad():\n",
        "    model_drop.eval()\n",
        "    train_acc = accuracy(model_drop, trainloader)\n",
        "    test_acc = accuracy(model_drop, testloader)\n",
        "  train_drop_accs.append(train_acc)\n",
        "  test_drop_accs.append(test_acc)\n",
        "\n",
        "  print(f\"Epoch {epoch:3d} | Loss: {total_loss} | Train Acc: {train_acc:.4f} | Test Acc: {test_acc:.4f}\")"
      ],
      "metadata": {
        "colab": {
          "base_uri": "https://localhost:8080/"
        },
        "id": "sQ5Vzx4eEn0U",
        "outputId": "5e1c7261-a974-45c4-e0cc-16f722d85d8f"
      },
      "execution_count": 27,
      "outputs": [
        {
          "output_type": "stream",
          "name": "stdout",
          "text": [
            "Epoch   0 | Loss: 426.5816578865051 | Train Acc: 0.2314 | Test Acc: 0.2321\n",
            "Epoch   1 | Loss: 387.34734559059143 | Train Acc: 0.3092 | Test Acc: 0.3069\n",
            "Epoch   2 | Loss: 364.2114324569702 | Train Acc: 0.3608 | Test Acc: 0.3603\n",
            "Epoch   3 | Loss: 344.91727590560913 | Train Acc: 0.3785 | Test Acc: 0.3845\n",
            "Epoch   4 | Loss: 335.50337386131287 | Train Acc: 0.4018 | Test Acc: 0.4014\n",
            "Epoch   5 | Loss: 326.5970890522003 | Train Acc: 0.4139 | Test Acc: 0.4115\n",
            "Epoch   6 | Loss: 318.79335737228394 | Train Acc: 0.4326 | Test Acc: 0.4320\n",
            "Epoch   7 | Loss: 312.16557919979095 | Train Acc: 0.4519 | Test Acc: 0.4462\n",
            "Epoch   8 | Loss: 305.4963618516922 | Train Acc: 0.4504 | Test Acc: 0.4432\n",
            "Epoch   9 | Loss: 299.99596536159515 | Train Acc: 0.4662 | Test Acc: 0.4499\n",
            "Epoch  10 | Loss: 294.9535388946533 | Train Acc: 0.4830 | Test Acc: 0.4698\n",
            "Epoch  11 | Loss: 289.76184380054474 | Train Acc: 0.4962 | Test Acc: 0.4812\n",
            "Epoch  12 | Loss: 285.8641308546066 | Train Acc: 0.4944 | Test Acc: 0.4814\n",
            "Epoch  13 | Loss: 282.688197016716 | Train Acc: 0.5116 | Test Acc: 0.4920\n",
            "Epoch  14 | Loss: 276.9292961359024 | Train Acc: 0.5097 | Test Acc: 0.4926\n",
            "Epoch  15 | Loss: 276.5330568552017 | Train Acc: 0.5215 | Test Acc: 0.4981\n",
            "Epoch  16 | Loss: 270.76263761520386 | Train Acc: 0.5303 | Test Acc: 0.5035\n",
            "Epoch  17 | Loss: 268.3338042497635 | Train Acc: 0.5325 | Test Acc: 0.5064\n",
            "Epoch  18 | Loss: 267.28715538978577 | Train Acc: 0.5335 | Test Acc: 0.5016\n",
            "Epoch  19 | Loss: 261.212162733078 | Train Acc: 0.5503 | Test Acc: 0.5212\n",
            "Epoch  20 | Loss: 258.2669612169266 | Train Acc: 0.5454 | Test Acc: 0.5109\n",
            "Epoch  21 | Loss: 254.77985763549805 | Train Acc: 0.5563 | Test Acc: 0.5206\n",
            "Epoch  22 | Loss: 253.21511602401733 | Train Acc: 0.5317 | Test Acc: 0.4963\n",
            "Epoch  23 | Loss: 248.7171494960785 | Train Acc: 0.5760 | Test Acc: 0.5312\n",
            "Epoch  24 | Loss: 246.81108450889587 | Train Acc: 0.5727 | Test Acc: 0.5230\n",
            "Epoch  25 | Loss: 247.1980288028717 | Train Acc: 0.5817 | Test Acc: 0.5304\n",
            "Epoch  26 | Loss: 239.88829123973846 | Train Acc: 0.5875 | Test Acc: 0.5349\n",
            "Epoch  27 | Loss: 237.04888594150543 | Train Acc: 0.5864 | Test Acc: 0.5280\n",
            "Epoch  28 | Loss: 236.03091895580292 | Train Acc: 0.5932 | Test Acc: 0.5318\n",
            "Epoch  29 | Loss: 231.46599769592285 | Train Acc: 0.6123 | Test Acc: 0.5418\n",
            "Epoch  30 | Loss: 230.66944426298141 | Train Acc: 0.6120 | Test Acc: 0.5428\n",
            "Epoch  31 | Loss: 227.9149752855301 | Train Acc: 0.6223 | Test Acc: 0.5474\n",
            "Epoch  32 | Loss: 224.32708245515823 | Train Acc: 0.6119 | Test Acc: 0.5374\n",
            "Epoch  33 | Loss: 221.2604876756668 | Train Acc: 0.6233 | Test Acc: 0.5444\n",
            "Epoch  34 | Loss: 221.49820226430893 | Train Acc: 0.6331 | Test Acc: 0.5455\n",
            "Epoch  35 | Loss: 217.31085169315338 | Train Acc: 0.6388 | Test Acc: 0.5521\n",
            "Epoch  36 | Loss: 213.8340677022934 | Train Acc: 0.6409 | Test Acc: 0.5451\n",
            "Epoch  37 | Loss: 213.3146293759346 | Train Acc: 0.6457 | Test Acc: 0.5525\n",
            "Epoch  38 | Loss: 212.67749083042145 | Train Acc: 0.6467 | Test Acc: 0.5510\n",
            "Epoch  39 | Loss: 208.45485585927963 | Train Acc: 0.6322 | Test Acc: 0.5420\n",
            "Epoch  40 | Loss: 204.1456087231636 | Train Acc: 0.6593 | Test Acc: 0.5509\n",
            "Epoch  41 | Loss: 208.39097303152084 | Train Acc: 0.6636 | Test Acc: 0.5558\n",
            "Epoch  42 | Loss: 201.31477200984955 | Train Acc: 0.6766 | Test Acc: 0.5525\n",
            "Epoch  43 | Loss: 199.1140918135643 | Train Acc: 0.6813 | Test Acc: 0.5558\n",
            "Epoch  44 | Loss: 200.3673967719078 | Train Acc: 0.6799 | Test Acc: 0.5597\n",
            "Epoch  45 | Loss: 195.2310312986374 | Train Acc: 0.6801 | Test Acc: 0.5586\n",
            "Epoch  46 | Loss: 195.70189064741135 | Train Acc: 0.7000 | Test Acc: 0.5643\n",
            "Epoch  47 | Loss: 189.08681285381317 | Train Acc: 0.6972 | Test Acc: 0.5591\n",
            "Epoch  48 | Loss: 186.4410119652748 | Train Acc: 0.6943 | Test Acc: 0.5591\n",
            "Epoch  49 | Loss: 185.36571514606476 | Train Acc: 0.7119 | Test Acc: 0.5627\n"
          ]
        }
      ]
    },
    {
      "cell_type": "markdown",
      "source": [
        "### 5-3 (Plot 3) Adam optimizer를 가지고 dropout을 적용한 모델을 학습한 후, epoch에 따른 train과 test 정확도를 비교합니다."
      ],
      "metadata": {
        "id": "ew-XjTfoHfRc"
      }
    },
    {
      "cell_type": "code",
      "source": [
        "plot_acc(train_drop_accs, test_drop_accs, 'train_drop_accs', 'test_drop_accs'); ## [MYCODE] plot3"
      ],
      "metadata": {
        "colab": {
          "base_uri": "https://localhost:8080/",
          "height": 430
        },
        "id": "1QFVie1aHSA3",
        "outputId": "eb86d5d5-b7c9-4e6c-f12e-426099028db7"
      },
      "execution_count": 28,
      "outputs": [
        {
          "output_type": "display_data",
          "data": {
            "text/plain": [
              "<Figure size 640x480 with 1 Axes>"
            ],
            "image/png": "[encoded data removed]"
          },
          "metadata": {}
        }
      ]
    },
    {
      "cell_type": "code",
      "source": [],
      "metadata": {
        "id": "8bQCwnUiJfR0"
      },
      "execution_count": null,
      "outputs": []
    }
  ]
}