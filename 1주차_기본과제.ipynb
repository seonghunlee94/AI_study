{
  "nbformat": 4,
  "nbformat_minor": 0,
  "metadata": {
    "colab": {
      "provenance": [],
      "gpuType": "T4",
      "include_colab_link": true
    },
    "kernelspec": {
      "name": "python3",
      "display_name": "Python 3"
    },
    "language_info": {
      "name": "python"
    },
    "accelerator": "GPU"
  },
  "cells": [
    {
      "cell_type": "markdown",
      "metadata": {
        "id": "view-in-github",
        "colab_type": "text"
      },
      "source": [
        "<a href=\"https://colab.research.google.com/github/seonghunlee94/AI_study/blob/master/1%EC%A3%BC%EC%B0%A8_%EA%B8%B0%EB%B3%B8%EA%B3%BC%EC%A0%9C.ipynb\" target=\"_parent\"><img src=\"https://colab.research.google.com/assets/colab-badge.svg\" alt=\"Open In Colab\"/></a>"
      ]
    },
    {
      "cell_type": "markdown",
      "source": [
        "# [기본과제] MNIST 분류(classification) 모델 구현\n"
      ],
      "metadata": {
        "id": "OPJenlrhihrh"
      }
    },
    {
      "cell_type": "code",
      "execution_count": 1,
      "metadata": {
        "id": "6lXVfXoDtoQh"
      },
      "outputs": [],
      "source": [
        "import torch\n",
        "import torchvision\n",
        "import torchvision.transforms as transforms"
      ]
    },
    {
      "cell_type": "code",
      "source": [
        "transform = transforms.ToTensor()\n",
        "\n",
        "trainset = torchvision.datasets.MNIST(\n",
        "    root='./data',\n",
        "    train=True,\n",
        "    download=True,\n",
        "    transform=transform\n",
        ")\n",
        "\n"
      ],
      "metadata": {
        "id": "KAYlqPaRt6ti",
        "colab": {
          "base_uri": "https://localhost:8080/"
        },
        "outputId": "b53d5ada-6a52-4719-d8f0-e61564cde2a4"
      },
      "execution_count": 2,
      "outputs": [
        {
          "output_type": "stream",
          "name": "stdout",
          "text": [
            "Downloading http://yann.lecun.com/exdb/mnist/train-images-idx3-ubyte.gz\n",
            "Failed to download (trying next):\n",
            "HTTP Error 403: Forbidden\n",
            "\n",
            "Downloading https://ossci-datasets.s3.amazonaws.com/mnist/train-images-idx3-ubyte.gz\n",
            "Downloading https://ossci-datasets.s3.amazonaws.com/mnist/train-images-idx3-ubyte.gz to ./data/MNIST/raw/train-images-idx3-ubyte.gz\n"
          ]
        },
        {
          "output_type": "stream",
          "name": "stderr",
          "text": [
            "100%|██████████| 9.91M/9.91M [00:00<00:00, 16.4MB/s]\n"
          ]
        },
        {
          "output_type": "stream",
          "name": "stdout",
          "text": [
            "Extracting ./data/MNIST/raw/train-images-idx3-ubyte.gz to ./data/MNIST/raw\n",
            "\n",
            "Downloading http://yann.lecun.com/exdb/mnist/train-labels-idx1-ubyte.gz\n",
            "Failed to download (trying next):\n",
            "HTTP Error 403: Forbidden\n",
            "\n",
            "Downloading https://ossci-datasets.s3.amazonaws.com/mnist/train-labels-idx1-ubyte.gz\n",
            "Downloading https://ossci-datasets.s3.amazonaws.com/mnist/train-labels-idx1-ubyte.gz to ./data/MNIST/raw/train-labels-idx1-ubyte.gz\n"
          ]
        },
        {
          "output_type": "stream",
          "name": "stderr",
          "text": [
            "100%|██████████| 28.9k/28.9k [00:00<00:00, 472kB/s]\n"
          ]
        },
        {
          "output_type": "stream",
          "name": "stdout",
          "text": [
            "Extracting ./data/MNIST/raw/train-labels-idx1-ubyte.gz to ./data/MNIST/raw\n",
            "\n",
            "Downloading http://yann.lecun.com/exdb/mnist/t10k-images-idx3-ubyte.gz\n",
            "Failed to download (trying next):\n",
            "HTTP Error 403: Forbidden\n",
            "\n",
            "Downloading https://ossci-datasets.s3.amazonaws.com/mnist/t10k-images-idx3-ubyte.gz\n",
            "Downloading https://ossci-datasets.s3.amazonaws.com/mnist/t10k-images-idx3-ubyte.gz to ./data/MNIST/raw/t10k-images-idx3-ubyte.gz\n"
          ]
        },
        {
          "output_type": "stream",
          "name": "stderr",
          "text": [
            "100%|██████████| 1.65M/1.65M [00:00<00:00, 4.53MB/s]\n"
          ]
        },
        {
          "output_type": "stream",
          "name": "stdout",
          "text": [
            "Extracting ./data/MNIST/raw/t10k-images-idx3-ubyte.gz to ./data/MNIST/raw\n",
            "\n",
            "Downloading http://yann.lecun.com/exdb/mnist/t10k-labels-idx1-ubyte.gz\n",
            "Failed to download (trying next):\n",
            "HTTP Error 403: Forbidden\n",
            "\n",
            "Downloading https://ossci-datasets.s3.amazonaws.com/mnist/t10k-labels-idx1-ubyte.gz\n",
            "Downloading https://ossci-datasets.s3.amazonaws.com/mnist/t10k-labels-idx1-ubyte.gz to ./data/MNIST/raw/t10k-labels-idx1-ubyte.gz\n"
          ]
        },
        {
          "output_type": "stream",
          "name": "stderr",
          "text": [
            "100%|██████████| 4.54k/4.54k [00:00<00:00, 10.5MB/s]\n"
          ]
        },
        {
          "output_type": "stream",
          "name": "stdout",
          "text": [
            "Extracting ./data/MNIST/raw/t10k-labels-idx1-ubyte.gz to ./data/MNIST/raw\n",
            "\n"
          ]
        }
      ]
    },
    {
      "cell_type": "markdown",
      "source": [
        "## 1. Test data 준비하기"
      ],
      "metadata": {
        "id": "HdupgBVSUqzq"
      }
    },
    {
      "cell_type": "markdown",
      "source": [
        "### 1-1 testset 생성\n"
      ],
      "metadata": {
        "id": "YXPxxFtL2Nrx"
      }
    },
    {
      "cell_type": "code",
      "source": [
        "## [MYCODE] testset\n",
        "testset = torchvision.datasets.MNIST(\n",
        "    root='./data',\n",
        "    train=False,\n",
        "    download=True,\n",
        "    transform=transform\n",
        ")"
      ],
      "metadata": {
        "id": "zkbJbwVhUR3y"
      },
      "execution_count": 3,
      "outputs": []
    },
    {
      "cell_type": "code",
      "source": [
        "from matplotlib import pyplot as plt\n",
        "\n",
        "\n",
        "print(len(trainset))\n",
        "print(trainset.classes)\n",
        "print(trainset[0][0].shape, trainset[0][1])\n",
        "plt.imshow(trainset[0][0][0], cmap='gray')"
      ],
      "metadata": {
        "colab": {
          "base_uri": "https://localhost:8080/",
          "height": 503
        },
        "id": "Zsp3sHmojyhT",
        "outputId": "93901c22-b870-4bf3-f750-3f780c753b89"
      },
      "execution_count": 16,
      "outputs": [
        {
          "output_type": "stream",
          "name": "stdout",
          "text": [
            "60000\n",
            "['0 - zero', '1 - one', '2 - two', '3 - three', '4 - four', '5 - five', '6 - six', '7 - seven', '8 - eight', '9 - nine']\n",
            "torch.Size([1, 28, 28]) 5\n"
          ]
        },
        {
          "output_type": "execute_result",
          "data": {
            "text/plain": [
              "<matplotlib.image.AxesImage at 0x7ef8dc58db70>"
            ]
          },
          "metadata": {},
          "execution_count": 16
        },
        {
          "output_type": "display_data",
          "data": {
            "text/plain": [
              "<Figure size 640x480 with 1 Axes>"
            ],
            "image/png": "[encoded data removed]"
          },
          "metadata": {}
        }
      ]
    },
    {
      "cell_type": "code",
      "source": [
        "batch_size = 64\n",
        "\n",
        "trainloader = torch.utils.data.DataLoader(\n",
        "    trainset,\n",
        "    batch_size=batch_size,\n",
        "    shuffle=True\n",
        ")\n",
        "\n"
      ],
      "metadata": {
        "id": "UxKu3kA2i5WH"
      },
      "execution_count": 17,
      "outputs": []
    },
    {
      "cell_type": "markdown",
      "source": [
        "### 1-2 testloader 생성\n"
      ],
      "metadata": {
        "id": "jJirL_2WVhUw"
      }
    },
    {
      "cell_type": "code",
      "source": [
        "## [MYCODE] testloader\n",
        "testloader = torch.utils.data.DataLoader(\n",
        "    testset,\n",
        "    batch_size=batch_size,\n",
        "    shuffle=False\n",
        ")"
      ],
      "metadata": {
        "id": "YMm7lq_bVfkx"
      },
      "execution_count": 6,
      "outputs": []
    },
    {
      "cell_type": "code",
      "source": [
        "dataiter = iter(trainloader)\n",
        "images, labels = next(dataiter)\n",
        "print(images.shape, labels.shape)"
      ],
      "metadata": {
        "colab": {
          "base_uri": "https://localhost:8080/"
        },
        "id": "_Hd7XxyAvVNz",
        "outputId": "2b961b66-61f5-4b0a-e8ca-c322f0f4bbcf"
      },
      "execution_count": 7,
      "outputs": [
        {
          "output_type": "stream",
          "name": "stdout",
          "text": [
            "torch.Size([64, 1, 28, 28]) torch.Size([64])\n"
          ]
        }
      ]
    },
    {
      "cell_type": "markdown",
      "source": [
        "## 2. nn.CrossEntropyLoss 적용하기"
      ],
      "metadata": {
        "id": "mIaCCAqq2dlX"
      }
    },
    {
      "cell_type": "markdown",
      "source": [
        "### 2-1 모델 출력 부분 10개로 변경하기\n"
      ],
      "metadata": {
        "id": "h0ZY5mDimRUK"
      }
    },
    {
      "cell_type": "code",
      "source": [
        "from torch import nn\n",
        "\n",
        "\n",
        "class Model(nn.Module):\n",
        "  def __init__(self, input_dim, n_dim):\n",
        "    super().__init__()\n",
        "\n",
        "    self.layer1 = nn.Linear(input_dim, n_dim)\n",
        "    self.layer2 = nn.Linear(n_dim, n_dim)\n",
        "    self.layer3 = nn.Linear(n_dim, 10) ## [MYCODE] output 10으로 조절\n",
        "\n",
        "    self.act = nn.ReLU()\n",
        "\n",
        "  def forward(self, x):\n",
        "    x = torch.flatten(x, start_dim=1)\n",
        "    x = self.act(self.layer1(x))\n",
        "    x = self.act(self.layer2(x))\n",
        "    x = self.act(self.layer3(x))\n",
        "\n",
        "    return x\n",
        "\n",
        "\n",
        "model = Model(28 * 28 * 1, 1024)"
      ],
      "metadata": {
        "id": "OLOA-ZGTuVVG"
      },
      "execution_count": 18,
      "outputs": []
    },
    {
      "cell_type": "code",
      "source": [
        "model.parameters()"
      ],
      "metadata": {
        "colab": {
          "base_uri": "https://localhost:8080/"
        },
        "id": "zZtyXXqLoJke",
        "outputId": "710d7f99-bc59-4b6e-9464-c698b4aa1e3a"
      },
      "execution_count": 9,
      "outputs": [
        {
          "output_type": "execute_result",
          "data": {
            "text/plain": [
              "<generator object Module.parameters at 0x7ef8d5c0aab0>"
            ]
          },
          "metadata": {},
          "execution_count": 9
        }
      ]
    },
    {
      "cell_type": "code",
      "source": [
        "for param in model.parameters():\n",
        "  print(param.shape)"
      ],
      "metadata": {
        "id": "hgOKv48YoNpX"
      },
      "execution_count": null,
      "outputs": []
    },
    {
      "cell_type": "markdown",
      "source": [
        "### 2-2 CrossEntropyLoss 함수 호출\n"
      ],
      "metadata": {
        "id": "NJGWfq4zhKnm"
      }
    },
    {
      "cell_type": "code",
      "source": [
        "from torch.optim import SGD\n",
        "\n",
        "lr = 0.001\n",
        "model = model.to('cuda')\n",
        "\n",
        "criterion = nn.CrossEntropyLoss() ## [MYCODE] CrossEntropyLoss\n",
        "optimizer = SGD(model.parameters(), lr=lr, momentum=0.9)"
      ],
      "metadata": {
        "id": "ypS0TcOlvBhZ"
      },
      "execution_count": 19,
      "outputs": []
    },
    {
      "cell_type": "code",
      "source": [
        "train_accs = []\n",
        "test_accs = []"
      ],
      "metadata": {
        "id": "oKzILlcVg2i2"
      },
      "execution_count": 20,
      "outputs": []
    },
    {
      "cell_type": "code",
      "source": [
        "def accuracy(model, dataloader):\n",
        "  cnt = 0\n",
        "  acc = 0\n",
        "\n",
        "  for data in dataloader:\n",
        "    inputs, labels = data\n",
        "    inputs, labels = inputs.to('cuda'), labels.to('cuda')\n",
        "\n",
        "    preds = model(inputs)\n",
        "    preds = torch.argmax(preds, dim=-1)\n",
        "\n",
        "    cnt += labels.shape[0]\n",
        "    acc += (labels == preds).sum().item()\n",
        "\n",
        "  return acc / cnt"
      ],
      "metadata": {
        "id": "d6M4SpWQoML9"
      },
      "execution_count": 12,
      "outputs": []
    },
    {
      "cell_type": "code",
      "source": [
        "import numpy as np\n",
        "\n",
        "def plot_acc(train_accs, test_accs, label1='train', label2='test'):\n",
        "  x = np.arange(len(train_accs))\n",
        "\n",
        "  plt.plot(x, train_accs, label=label1)\n",
        "  plt.plot(x, test_accs, label=label2)\n",
        "  plt.legend()\n",
        "  plt.show()"
      ],
      "metadata": {
        "id": "dXXAqqN3e76I"
      },
      "execution_count": 24,
      "outputs": []
    },
    {
      "cell_type": "markdown",
      "source": [
        "### 2-3 CrossEntropyLoss 적용하기"
      ],
      "metadata": {
        "id": "-7PxnrwUzqTJ"
      }
    },
    {
      "cell_type": "code",
      "source": [
        "n_epochs = 100\n",
        "\n",
        "for epoch in range(n_epochs):\n",
        "  total_loss = 0.\n",
        "  for data in trainloader:\n",
        "    model.zero_grad()\n",
        "    inputs, labels = data\n",
        "    inputs, labels = inputs.to('cuda'), labels.to('cuda')\n",
        "\n",
        "    preds = model(inputs)\n",
        "    #print(preds.shape, labels.shape)\n",
        "    #break\n",
        "    loss = criterion(preds, labels) ## [MYCODE] criterion\n",
        "    loss.backward()\n",
        "    optimizer.step()\n",
        "\n",
        "    total_loss += loss.item()\n",
        "\n",
        "  # print(f\"Epoch {epoch:3d} | Loss: {total_loss}\")\n",
        "  # 직접 작성\n",
        "  train_acc = accuracy(model, trainloader)\n",
        "  test_acc = accuracy(model, testloader)\n",
        "  train_accs.append(train_acc)\n",
        "  test_accs.append(test_acc)\n",
        "\n",
        "  print(f\"Epoch {epoch:3d} | Loss: {total_loss} | Train Acc: {train_acc:.4f} | Test Acc: {test_acc:.4f}\")"
      ],
      "metadata": {
        "colab": {
          "base_uri": "https://localhost:8080/"
        },
        "id": "TryX1hewvNiB",
        "outputId": "55d42c93-78d3-4c8e-a227-4472ed246c75"
      },
      "execution_count": 22,
      "outputs": [
        {
          "output_type": "stream",
          "name": "stdout",
          "text": [
            "Epoch   0 | Loss: 1644.5481013059616 | Train Acc: 0.7618 | Test Acc: 0.7656\n",
            "Epoch   1 | Loss: 736.819901227951 | Train Acc: 0.8071 | Test Acc: 0.8072\n",
            "Epoch   2 | Loss: 565.3857050836086 | Train Acc: 0.8199 | Test Acc: 0.8212\n",
            "Epoch   3 | Loss: 511.9920291900635 | Train Acc: 0.8260 | Test Acc: 0.8272\n",
            "Epoch   4 | Loss: 482.94342425465584 | Train Acc: 0.8319 | Test Acc: 0.8340\n",
            "Epoch   5 | Loss: 462.20756214112043 | Train Acc: 0.8378 | Test Acc: 0.8357\n",
            "Epoch   6 | Loss: 445.2498604655266 | Train Acc: 0.8423 | Test Acc: 0.8397\n",
            "Epoch   7 | Loss: 430.0141079723835 | Train Acc: 0.8454 | Test Acc: 0.8430\n",
            "Epoch   8 | Loss: 416.64188002049923 | Train Acc: 0.8499 | Test Acc: 0.8463\n",
            "Epoch   9 | Loss: 404.3749513924122 | Train Acc: 0.8528 | Test Acc: 0.8486\n",
            "Epoch  10 | Loss: 393.3516363799572 | Train Acc: 0.8563 | Test Acc: 0.8502\n",
            "Epoch  11 | Loss: 383.2502253949642 | Train Acc: 0.8577 | Test Acc: 0.8524\n",
            "Epoch  12 | Loss: 374.61795400083065 | Train Acc: 0.8600 | Test Acc: 0.8544\n",
            "Epoch  13 | Loss: 365.7552952840924 | Train Acc: 0.8628 | Test Acc: 0.8561\n",
            "Epoch  14 | Loss: 358.31921265274286 | Train Acc: 0.8646 | Test Acc: 0.8585\n",
            "Epoch  15 | Loss: 351.3057737275958 | Train Acc: 0.8661 | Test Acc: 0.8591\n",
            "Epoch  16 | Loss: 344.9622097685933 | Train Acc: 0.8682 | Test Acc: 0.8609\n",
            "Epoch  17 | Loss: 338.80752754211426 | Train Acc: 0.8692 | Test Acc: 0.8616\n",
            "Epoch  18 | Loss: 333.42673924565315 | Train Acc: 0.8708 | Test Acc: 0.8630\n",
            "Epoch  19 | Loss: 328.53003802895546 | Train Acc: 0.8726 | Test Acc: 0.8659\n",
            "Epoch  20 | Loss: 323.74144531041384 | Train Acc: 0.8742 | Test Acc: 0.8651\n",
            "Epoch  21 | Loss: 319.14203875511885 | Train Acc: 0.8750 | Test Acc: 0.8659\n",
            "Epoch  22 | Loss: 314.70860386639833 | Train Acc: 0.8764 | Test Acc: 0.8668\n",
            "Epoch  23 | Loss: 311.1385750770569 | Train Acc: 0.8768 | Test Acc: 0.8678\n",
            "Epoch  24 | Loss: 307.31396973505616 | Train Acc: 0.8782 | Test Acc: 0.8687\n",
            "Epoch  25 | Loss: 304.1974135097116 | Train Acc: 0.8789 | Test Acc: 0.8694\n",
            "Epoch  26 | Loss: 300.70164424180984 | Train Acc: 0.8797 | Test Acc: 0.8701\n",
            "Epoch  27 | Loss: 297.78346509858966 | Train Acc: 0.8807 | Test Acc: 0.8705\n",
            "Epoch  28 | Loss: 294.7758854031563 | Train Acc: 0.8816 | Test Acc: 0.8701\n",
            "Epoch  29 | Loss: 292.0047623347491 | Train Acc: 0.8819 | Test Acc: 0.8711\n",
            "Epoch  30 | Loss: 289.5684704296291 | Train Acc: 0.8826 | Test Acc: 0.8727\n",
            "Epoch  31 | Loss: 286.8992123827338 | Train Acc: 0.8838 | Test Acc: 0.8716\n",
            "Epoch  32 | Loss: 284.3945434913039 | Train Acc: 0.8843 | Test Acc: 0.8737\n",
            "Epoch  33 | Loss: 282.3807248696685 | Train Acc: 0.8850 | Test Acc: 0.8737\n",
            "Epoch  34 | Loss: 279.893753901124 | Train Acc: 0.8851 | Test Acc: 0.8739\n",
            "Epoch  35 | Loss: 278.0080458968878 | Train Acc: 0.8857 | Test Acc: 0.8743\n",
            "Epoch  36 | Loss: 276.06289714574814 | Train Acc: 0.8861 | Test Acc: 0.8747\n",
            "Epoch  37 | Loss: 273.84878178685904 | Train Acc: 0.8871 | Test Acc: 0.8743\n",
            "Epoch  38 | Loss: 272.31245256587863 | Train Acc: 0.8868 | Test Acc: 0.8746\n",
            "Epoch  39 | Loss: 270.28367644548416 | Train Acc: 0.8881 | Test Acc: 0.8756\n",
            "Epoch  40 | Loss: 268.62300758063793 | Train Acc: 0.8879 | Test Acc: 0.8750\n",
            "Epoch  41 | Loss: 267.1017140522599 | Train Acc: 0.8888 | Test Acc: 0.8763\n",
            "Epoch  42 | Loss: 265.66140280663967 | Train Acc: 0.8891 | Test Acc: 0.8758\n",
            "Epoch  43 | Loss: 264.0291420780122 | Train Acc: 0.8893 | Test Acc: 0.8766\n",
            "Epoch  44 | Loss: 262.65052277967334 | Train Acc: 0.8901 | Test Acc: 0.8762\n",
            "Epoch  45 | Loss: 261.1109164133668 | Train Acc: 0.8905 | Test Acc: 0.8765\n",
            "Epoch  46 | Loss: 259.83860317990184 | Train Acc: 0.8908 | Test Acc: 0.8771\n",
            "Epoch  47 | Loss: 258.6628179103136 | Train Acc: 0.8909 | Test Acc: 0.8769\n",
            "Epoch  48 | Loss: 257.42422068864107 | Train Acc: 0.8912 | Test Acc: 0.8775\n",
            "Epoch  49 | Loss: 256.3283009491861 | Train Acc: 0.8917 | Test Acc: 0.8767\n",
            "Epoch  50 | Loss: 255.0011150687933 | Train Acc: 0.8920 | Test Acc: 0.8782\n",
            "Epoch  51 | Loss: 253.92218782752752 | Train Acc: 0.8920 | Test Acc: 0.8778\n",
            "Epoch  52 | Loss: 253.03595572710037 | Train Acc: 0.8927 | Test Acc: 0.8783\n",
            "Epoch  53 | Loss: 251.8111476362683 | Train Acc: 0.8929 | Test Acc: 0.8775\n",
            "Epoch  54 | Loss: 250.9212654158473 | Train Acc: 0.8932 | Test Acc: 0.8783\n",
            "Epoch  55 | Loss: 249.7249510139227 | Train Acc: 0.8934 | Test Acc: 0.8782\n",
            "Epoch  56 | Loss: 248.98974917829037 | Train Acc: 0.8937 | Test Acc: 0.8781\n",
            "Epoch  57 | Loss: 247.9251484721899 | Train Acc: 0.8940 | Test Acc: 0.8786\n",
            "Epoch  58 | Loss: 247.07559804199263 | Train Acc: 0.8944 | Test Acc: 0.8784\n",
            "Epoch  59 | Loss: 246.20158947259188 | Train Acc: 0.8947 | Test Acc: 0.8785\n",
            "Epoch  60 | Loss: 245.36945880576968 | Train Acc: 0.8949 | Test Acc: 0.8790\n",
            "Epoch  61 | Loss: 244.63547873310745 | Train Acc: 0.8951 | Test Acc: 0.8793\n",
            "Epoch  62 | Loss: 243.78399246931076 | Train Acc: 0.8949 | Test Acc: 0.8788\n",
            "Epoch  63 | Loss: 243.02268682187423 | Train Acc: 0.8956 | Test Acc: 0.8790\n",
            "Epoch  64 | Loss: 242.44832732342184 | Train Acc: 0.8955 | Test Acc: 0.8788\n",
            "Epoch  65 | Loss: 241.62978657707572 | Train Acc: 0.8958 | Test Acc: 0.8786\n",
            "Epoch  66 | Loss: 240.86113445460796 | Train Acc: 0.8961 | Test Acc: 0.8785\n",
            "Epoch  67 | Loss: 240.30145359411836 | Train Acc: 0.8961 | Test Acc: 0.8790\n",
            "Epoch  68 | Loss: 239.74319278262556 | Train Acc: 0.8961 | Test Acc: 0.8787\n",
            "Epoch  69 | Loss: 239.03544576186687 | Train Acc: 0.8965 | Test Acc: 0.8796\n",
            "Epoch  70 | Loss: 238.44178438559175 | Train Acc: 0.8961 | Test Acc: 0.8796\n",
            "Epoch  71 | Loss: 237.96822331100702 | Train Acc: 0.8969 | Test Acc: 0.8790\n",
            "Epoch  72 | Loss: 237.37817149143666 | Train Acc: 0.8968 | Test Acc: 0.8797\n",
            "Epoch  73 | Loss: 236.82429314497858 | Train Acc: 0.8971 | Test Acc: 0.8798\n",
            "Epoch  74 | Loss: 236.5058202680666 | Train Acc: 0.8973 | Test Acc: 0.8796\n",
            "Epoch  75 | Loss: 235.72008564602584 | Train Acc: 0.8971 | Test Acc: 0.8797\n",
            "Epoch  76 | Loss: 235.49400694295764 | Train Acc: 0.8973 | Test Acc: 0.8799\n",
            "Epoch  77 | Loss: 234.83189734071493 | Train Acc: 0.8974 | Test Acc: 0.8798\n",
            "Epoch  78 | Loss: 234.3766443952918 | Train Acc: 0.8976 | Test Acc: 0.8792\n",
            "Epoch  79 | Loss: 233.98348042182624 | Train Acc: 0.8977 | Test Acc: 0.8799\n",
            "Epoch  80 | Loss: 233.43970767967403 | Train Acc: 0.8977 | Test Acc: 0.8801\n",
            "Epoch  81 | Loss: 233.16578307002783 | Train Acc: 0.8978 | Test Acc: 0.8796\n",
            "Epoch  82 | Loss: 232.63993976591155 | Train Acc: 0.8980 | Test Acc: 0.8800\n",
            "Epoch  83 | Loss: 232.34773473069072 | Train Acc: 0.8980 | Test Acc: 0.8792\n",
            "Epoch  84 | Loss: 232.04658822715282 | Train Acc: 0.8981 | Test Acc: 0.8796\n",
            "Epoch  85 | Loss: 231.52820107340813 | Train Acc: 0.8982 | Test Acc: 0.8804\n",
            "Epoch  86 | Loss: 231.20649467036128 | Train Acc: 0.8983 | Test Acc: 0.8800\n",
            "Epoch  87 | Loss: 230.72075234074146 | Train Acc: 0.8983 | Test Acc: 0.8798\n",
            "Epoch  88 | Loss: 230.58391205593944 | Train Acc: 0.8983 | Test Acc: 0.8790\n",
            "Epoch  89 | Loss: 230.18217101227492 | Train Acc: 0.8984 | Test Acc: 0.8800\n",
            "Epoch  90 | Loss: 229.7893830658868 | Train Acc: 0.8983 | Test Acc: 0.8801\n",
            "Epoch  91 | Loss: 229.55074498057365 | Train Acc: 0.8985 | Test Acc: 0.8796\n",
            "Epoch  92 | Loss: 229.33021756168455 | Train Acc: 0.8986 | Test Acc: 0.8798\n",
            "Epoch  93 | Loss: 228.85529077565297 | Train Acc: 0.8986 | Test Acc: 0.8806\n",
            "Epoch  94 | Loss: 228.7272714190185 | Train Acc: 0.8986 | Test Acc: 0.8798\n",
            "Epoch  95 | Loss: 228.41047578305006 | Train Acc: 0.8986 | Test Acc: 0.8808\n",
            "Epoch  96 | Loss: 228.15322527475655 | Train Acc: 0.8987 | Test Acc: 0.8801\n",
            "Epoch  97 | Loss: 227.89834184292704 | Train Acc: 0.8986 | Test Acc: 0.8804\n",
            "Epoch  98 | Loss: 227.6376697793603 | Train Acc: 0.8988 | Test Acc: 0.8799\n",
            "Epoch  99 | Loss: 227.43570821359754 | Train Acc: 0.8987 | Test Acc: 0.8805\n"
          ]
        }
      ]
    },
    {
      "cell_type": "code",
      "source": [
        "idx = 0\n",
        "\n",
        "x = trainset[idx][0][None]  # (1, 1, 28, 28)\n",
        "x = x.to('cuda')\n",
        "\n",
        "print(model(x))\n",
        "print(trainset[idx][1])"
      ],
      "metadata": {
        "id": "Zct0ssSKwjt1",
        "colab": {
          "base_uri": "https://localhost:8080/"
        },
        "outputId": "63e0ac0f-bfec-482d-c7c6-e7545b5292db"
      },
      "execution_count": 11,
      "outputs": [
        {
          "output_type": "stream",
          "name": "stdout",
          "text": [
            "tensor([[4.9591]], device='cuda:0', grad_fn=<ReluBackward0>)\n",
            "5\n"
          ]
        }
      ]
    },
    {
      "cell_type": "markdown",
      "source": [
        "## 3. 정확도 plot"
      ],
      "metadata": {
        "id": "e1KuIJlu3mys"
      }
    },
    {
      "cell_type": "code",
      "source": [
        "plot_acc(train_accs, test_accs);"
      ],
      "metadata": {
        "colab": {
          "base_uri": "https://localhost:8080/",
          "height": 430
        },
        "id": "q8FP_C6ifAdv",
        "outputId": "8d7821b5-34bf-4575-9d49-cd2cfe27f159"
      },
      "execution_count": 25,
      "outputs": [
        {
          "output_type": "display_data",
          "data": {
            "text/plain": [
              "<Figure size 640x480 with 1 Axes>"
            ],
            "image/png": "[encoded data removed]"
          },
          "metadata": {}
        }
      ]
    },
    {
      "cell_type": "code",
      "source": [],
      "metadata": {
        "id": "TNk-pJZLfkVZ"
      },
      "execution_count": null,
      "outputs": []
    }
  ]
}